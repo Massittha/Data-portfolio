{
  "nbformat": 4,
  "nbformat_minor": 0,
  "metadata": {
    "colab": {
      "provenance": [],
      "authorship_tag": "ABX9TyP7LqSZMcvdJsfGVfrTcFOl",
      "include_colab_link": true
    },
    "kernelspec": {
      "name": "python3",
      "display_name": "Python 3"
    },
    "language_info": {
      "name": "python"
    }
  },
  "cells": [
    {
      "cell_type": "markdown",
      "metadata": {
        "id": "view-in-github",
        "colab_type": "text"
      },
      "source": [
        "<a href=\"https://colab.research.google.com/github/Massittha/Data-portfolio/blob/main/My_KNeighbors_Class.ipynb\" target=\"_parent\"><img src=\"https://colab.research.google.com/assets/colab-badge.svg\" alt=\"Open In Colab\"/></a>"
      ]
    },
    {
      "cell_type": "markdown",
      "source": [
        "# K Nearest Neighbors Classification"
      ],
      "metadata": {
        "id": "pCZpMRH_MBXQ"
      }
    },
    {
      "cell_type": "markdown",
      "source": [
        "## Introduction\n",
        "In this colab notebook, I created my own version of K Nearest Neighbors algorithm. The algorithm was used to make predictions on the breast cancer Wisconsin dataset from `sklearn library` to classify instances as either being benign or malignant. The results obtained were then compared with `sklearn` implementation.\n",
        "\n",
        "The procedures include the following:\n",
        "1. Load the breast cancer Wisconsin dataset\n",
        "2. Create my own version of K Nearest Neighbors class\n",
        "3. Split the data\n",
        "4. Make predictions on the test set with my implementation\n",
        "5. Make predictions on the test set with `sklearn` implementation\n",
        "6. Compare the predictions\n",
        "7. Perform K-Fold cross validation on both my algorithm and `sklearn` implementation to find the best `k value` for the models.\n",
        "8. Implement the resulting `k values` to both models and evaluate their performance.\n",
        "\n",
        "! Note that my version of algorithm is just to ensure my understanding of K-Nearest Neighbors Classification Method, not to optimize the performance in computation speed.\n",
        "\n",
        "\n"
      ],
      "metadata": {
        "id": "npoQWtI_MWtE"
      }
    },
    {
      "cell_type": "markdown",
      "source": [
        "## 1. Load the dataset"
      ],
      "metadata": {
        "id": "eeWdzVSQ_2X-"
      }
    },
    {
      "cell_type": "code",
      "execution_count": 1,
      "metadata": {
        "id": "g958694yv6cR"
      },
      "outputs": [],
      "source": [
        "# import libraries\n",
        "import pandas as pd\n",
        "import numpy as np"
      ]
    },
    {
      "cell_type": "code",
      "source": [
        "# Load data\n",
        "from sklearn import datasets\n",
        "\n",
        "cancer = datasets.load_breast_cancer()\n",
        "X = cancer.data\n",
        "Y = cancer.target\n",
        "\n",
        "cancer_df = pd.DataFrame(data = np.c_[cancer['data'], cancer['target']],\n",
        "                     columns= list(cancer['feature_names']) + ['target'])\n",
        "\n",
        "cancer_df.target = cancer_df.target.astype('int')\n",
        "\n"
      ],
      "metadata": {
        "id": "MPPUzz-KwLp7"
      },
      "execution_count": 2,
      "outputs": []
    },
    {
      "cell_type": "markdown",
      "source": [
        "### Check numbers of rows and columns, and see the data type of each feature"
      ],
      "metadata": {
        "id": "awnnv1cqGcbD"
      }
    },
    {
      "cell_type": "code",
      "source": [
        "cancer_df.info()"
      ],
      "metadata": {
        "colab": {
          "base_uri": "https://localhost:8080/"
        },
        "id": "F9zxTJgHyEKK",
        "outputId": "bf44fe0c-208c-4f9a-fd52-7dd450721254"
      },
      "execution_count": 3,
      "outputs": [
        {
          "output_type": "stream",
          "name": "stdout",
          "text": [
            "<class 'pandas.core.frame.DataFrame'>\n",
            "RangeIndex: 569 entries, 0 to 568\n",
            "Data columns (total 31 columns):\n",
            " #   Column                   Non-Null Count  Dtype  \n",
            "---  ------                   --------------  -----  \n",
            " 0   mean radius              569 non-null    float64\n",
            " 1   mean texture             569 non-null    float64\n",
            " 2   mean perimeter           569 non-null    float64\n",
            " 3   mean area                569 non-null    float64\n",
            " 4   mean smoothness          569 non-null    float64\n",
            " 5   mean compactness         569 non-null    float64\n",
            " 6   mean concavity           569 non-null    float64\n",
            " 7   mean concave points      569 non-null    float64\n",
            " 8   mean symmetry            569 non-null    float64\n",
            " 9   mean fractal dimension   569 non-null    float64\n",
            " 10  radius error             569 non-null    float64\n",
            " 11  texture error            569 non-null    float64\n",
            " 12  perimeter error          569 non-null    float64\n",
            " 13  area error               569 non-null    float64\n",
            " 14  smoothness error         569 non-null    float64\n",
            " 15  compactness error        569 non-null    float64\n",
            " 16  concavity error          569 non-null    float64\n",
            " 17  concave points error     569 non-null    float64\n",
            " 18  symmetry error           569 non-null    float64\n",
            " 19  fractal dimension error  569 non-null    float64\n",
            " 20  worst radius             569 non-null    float64\n",
            " 21  worst texture            569 non-null    float64\n",
            " 22  worst perimeter          569 non-null    float64\n",
            " 23  worst area               569 non-null    float64\n",
            " 24  worst smoothness         569 non-null    float64\n",
            " 25  worst compactness        569 non-null    float64\n",
            " 26  worst concavity          569 non-null    float64\n",
            " 27  worst concave points     569 non-null    float64\n",
            " 28  worst symmetry           569 non-null    float64\n",
            " 29  worst fractal dimension  569 non-null    float64\n",
            " 30  target                   569 non-null    int64  \n",
            "dtypes: float64(30), int64(1)\n",
            "memory usage: 137.9 KB\n"
          ]
        }
      ]
    },
    {
      "cell_type": "code",
      "source": [
        "cancer_df.head()"
      ],
      "metadata": {
        "colab": {
          "base_uri": "https://localhost:8080/",
          "height": 290
        },
        "id": "NFGBjPKEyGDB",
        "outputId": "c299de84-a5f4-4270-df82-f0502d3703b8"
      },
      "execution_count": 4,
      "outputs": [
        {
          "output_type": "execute_result",
          "data": {
            "text/plain": [
              "   mean radius  mean texture  mean perimeter  mean area  mean smoothness  \\\n",
              "0        17.99         10.38          122.80     1001.0          0.11840   \n",
              "1        20.57         17.77          132.90     1326.0          0.08474   \n",
              "2        19.69         21.25          130.00     1203.0          0.10960   \n",
              "3        11.42         20.38           77.58      386.1          0.14250   \n",
              "4        20.29         14.34          135.10     1297.0          0.10030   \n",
              "\n",
              "   mean compactness  mean concavity  mean concave points  mean symmetry  \\\n",
              "0           0.27760          0.3001              0.14710         0.2419   \n",
              "1           0.07864          0.0869              0.07017         0.1812   \n",
              "2           0.15990          0.1974              0.12790         0.2069   \n",
              "3           0.28390          0.2414              0.10520         0.2597   \n",
              "4           0.13280          0.1980              0.10430         0.1809   \n",
              "\n",
              "   mean fractal dimension  ...  worst texture  worst perimeter  worst area  \\\n",
              "0                 0.07871  ...          17.33           184.60      2019.0   \n",
              "1                 0.05667  ...          23.41           158.80      1956.0   \n",
              "2                 0.05999  ...          25.53           152.50      1709.0   \n",
              "3                 0.09744  ...          26.50            98.87       567.7   \n",
              "4                 0.05883  ...          16.67           152.20      1575.0   \n",
              "\n",
              "   worst smoothness  worst compactness  worst concavity  worst concave points  \\\n",
              "0            0.1622             0.6656           0.7119                0.2654   \n",
              "1            0.1238             0.1866           0.2416                0.1860   \n",
              "2            0.1444             0.4245           0.4504                0.2430   \n",
              "3            0.2098             0.8663           0.6869                0.2575   \n",
              "4            0.1374             0.2050           0.4000                0.1625   \n",
              "\n",
              "   worst symmetry  worst fractal dimension  target  \n",
              "0          0.4601                  0.11890       0  \n",
              "1          0.2750                  0.08902       0  \n",
              "2          0.3613                  0.08758       0  \n",
              "3          0.6638                  0.17300       0  \n",
              "4          0.2364                  0.07678       0  \n",
              "\n",
              "[5 rows x 31 columns]"
            ],
            "text/html": [
              "\n",
              "  <div id=\"df-4e65b584-4975-497c-b477-23e2003726a5\" class=\"colab-df-container\">\n",
              "    <div>\n",
              "<style scoped>\n",
              "    .dataframe tbody tr th:only-of-type {\n",
              "        vertical-align: middle;\n",
              "    }\n",
              "\n",
              "    .dataframe tbody tr th {\n",
              "        vertical-align: top;\n",
              "    }\n",
              "\n",
              "    .dataframe thead th {\n",
              "        text-align: right;\n",
              "    }\n",
              "</style>\n",
              "<table border=\"1\" class=\"dataframe\">\n",
              "  <thead>\n",
              "    <tr style=\"text-align: right;\">\n",
              "      <th></th>\n",
              "      <th>mean radius</th>\n",
              "      <th>mean texture</th>\n",
              "      <th>mean perimeter</th>\n",
              "      <th>mean area</th>\n",
              "      <th>mean smoothness</th>\n",
              "      <th>mean compactness</th>\n",
              "      <th>mean concavity</th>\n",
              "      <th>mean concave points</th>\n",
              "      <th>mean symmetry</th>\n",
              "      <th>mean fractal dimension</th>\n",
              "      <th>...</th>\n",
              "      <th>worst texture</th>\n",
              "      <th>worst perimeter</th>\n",
              "      <th>worst area</th>\n",
              "      <th>worst smoothness</th>\n",
              "      <th>worst compactness</th>\n",
              "      <th>worst concavity</th>\n",
              "      <th>worst concave points</th>\n",
              "      <th>worst symmetry</th>\n",
              "      <th>worst fractal dimension</th>\n",
              "      <th>target</th>\n",
              "    </tr>\n",
              "  </thead>\n",
              "  <tbody>\n",
              "    <tr>\n",
              "      <th>0</th>\n",
              "      <td>17.99</td>\n",
              "      <td>10.38</td>\n",
              "      <td>122.80</td>\n",
              "      <td>1001.0</td>\n",
              "      <td>0.11840</td>\n",
              "      <td>0.27760</td>\n",
              "      <td>0.3001</td>\n",
              "      <td>0.14710</td>\n",
              "      <td>0.2419</td>\n",
              "      <td>0.07871</td>\n",
              "      <td>...</td>\n",
              "      <td>17.33</td>\n",
              "      <td>184.60</td>\n",
              "      <td>2019.0</td>\n",
              "      <td>0.1622</td>\n",
              "      <td>0.6656</td>\n",
              "      <td>0.7119</td>\n",
              "      <td>0.2654</td>\n",
              "      <td>0.4601</td>\n",
              "      <td>0.11890</td>\n",
              "      <td>0</td>\n",
              "    </tr>\n",
              "    <tr>\n",
              "      <th>1</th>\n",
              "      <td>20.57</td>\n",
              "      <td>17.77</td>\n",
              "      <td>132.90</td>\n",
              "      <td>1326.0</td>\n",
              "      <td>0.08474</td>\n",
              "      <td>0.07864</td>\n",
              "      <td>0.0869</td>\n",
              "      <td>0.07017</td>\n",
              "      <td>0.1812</td>\n",
              "      <td>0.05667</td>\n",
              "      <td>...</td>\n",
              "      <td>23.41</td>\n",
              "      <td>158.80</td>\n",
              "      <td>1956.0</td>\n",
              "      <td>0.1238</td>\n",
              "      <td>0.1866</td>\n",
              "      <td>0.2416</td>\n",
              "      <td>0.1860</td>\n",
              "      <td>0.2750</td>\n",
              "      <td>0.08902</td>\n",
              "      <td>0</td>\n",
              "    </tr>\n",
              "    <tr>\n",
              "      <th>2</th>\n",
              "      <td>19.69</td>\n",
              "      <td>21.25</td>\n",
              "      <td>130.00</td>\n",
              "      <td>1203.0</td>\n",
              "      <td>0.10960</td>\n",
              "      <td>0.15990</td>\n",
              "      <td>0.1974</td>\n",
              "      <td>0.12790</td>\n",
              "      <td>0.2069</td>\n",
              "      <td>0.05999</td>\n",
              "      <td>...</td>\n",
              "      <td>25.53</td>\n",
              "      <td>152.50</td>\n",
              "      <td>1709.0</td>\n",
              "      <td>0.1444</td>\n",
              "      <td>0.4245</td>\n",
              "      <td>0.4504</td>\n",
              "      <td>0.2430</td>\n",
              "      <td>0.3613</td>\n",
              "      <td>0.08758</td>\n",
              "      <td>0</td>\n",
              "    </tr>\n",
              "    <tr>\n",
              "      <th>3</th>\n",
              "      <td>11.42</td>\n",
              "      <td>20.38</td>\n",
              "      <td>77.58</td>\n",
              "      <td>386.1</td>\n",
              "      <td>0.14250</td>\n",
              "      <td>0.28390</td>\n",
              "      <td>0.2414</td>\n",
              "      <td>0.10520</td>\n",
              "      <td>0.2597</td>\n",
              "      <td>0.09744</td>\n",
              "      <td>...</td>\n",
              "      <td>26.50</td>\n",
              "      <td>98.87</td>\n",
              "      <td>567.7</td>\n",
              "      <td>0.2098</td>\n",
              "      <td>0.8663</td>\n",
              "      <td>0.6869</td>\n",
              "      <td>0.2575</td>\n",
              "      <td>0.6638</td>\n",
              "      <td>0.17300</td>\n",
              "      <td>0</td>\n",
              "    </tr>\n",
              "    <tr>\n",
              "      <th>4</th>\n",
              "      <td>20.29</td>\n",
              "      <td>14.34</td>\n",
              "      <td>135.10</td>\n",
              "      <td>1297.0</td>\n",
              "      <td>0.10030</td>\n",
              "      <td>0.13280</td>\n",
              "      <td>0.1980</td>\n",
              "      <td>0.10430</td>\n",
              "      <td>0.1809</td>\n",
              "      <td>0.05883</td>\n",
              "      <td>...</td>\n",
              "      <td>16.67</td>\n",
              "      <td>152.20</td>\n",
              "      <td>1575.0</td>\n",
              "      <td>0.1374</td>\n",
              "      <td>0.2050</td>\n",
              "      <td>0.4000</td>\n",
              "      <td>0.1625</td>\n",
              "      <td>0.2364</td>\n",
              "      <td>0.07678</td>\n",
              "      <td>0</td>\n",
              "    </tr>\n",
              "  </tbody>\n",
              "</table>\n",
              "<p>5 rows × 31 columns</p>\n",
              "</div>\n",
              "    <div class=\"colab-df-buttons\">\n",
              "\n",
              "  <div class=\"colab-df-container\">\n",
              "    <button class=\"colab-df-convert\" onclick=\"convertToInteractive('df-4e65b584-4975-497c-b477-23e2003726a5')\"\n",
              "            title=\"Convert this dataframe to an interactive table.\"\n",
              "            style=\"display:none;\">\n",
              "\n",
              "  <svg xmlns=\"http://www.w3.org/2000/svg\" height=\"24px\" viewBox=\"0 -960 960 960\">\n",
              "    <path d=\"M120-120v-720h720v720H120Zm60-500h600v-160H180v160Zm220 220h160v-160H400v160Zm0 220h160v-160H400v160ZM180-400h160v-160H180v160Zm440 0h160v-160H620v160ZM180-180h160v-160H180v160Zm440 0h160v-160H620v160Z\"/>\n",
              "  </svg>\n",
              "    </button>\n",
              "\n",
              "  <style>\n",
              "    .colab-df-container {\n",
              "      display:flex;\n",
              "      gap: 12px;\n",
              "    }\n",
              "\n",
              "    .colab-df-convert {\n",
              "      background-color: #E8F0FE;\n",
              "      border: none;\n",
              "      border-radius: 50%;\n",
              "      cursor: pointer;\n",
              "      display: none;\n",
              "      fill: #1967D2;\n",
              "      height: 32px;\n",
              "      padding: 0 0 0 0;\n",
              "      width: 32px;\n",
              "    }\n",
              "\n",
              "    .colab-df-convert:hover {\n",
              "      background-color: #E2EBFA;\n",
              "      box-shadow: 0px 1px 2px rgba(60, 64, 67, 0.3), 0px 1px 3px 1px rgba(60, 64, 67, 0.15);\n",
              "      fill: #174EA6;\n",
              "    }\n",
              "\n",
              "    .colab-df-buttons div {\n",
              "      margin-bottom: 4px;\n",
              "    }\n",
              "\n",
              "    [theme=dark] .colab-df-convert {\n",
              "      background-color: #3B4455;\n",
              "      fill: #D2E3FC;\n",
              "    }\n",
              "\n",
              "    [theme=dark] .colab-df-convert:hover {\n",
              "      background-color: #434B5C;\n",
              "      box-shadow: 0px 1px 3px 1px rgba(0, 0, 0, 0.15);\n",
              "      filter: drop-shadow(0px 1px 2px rgba(0, 0, 0, 0.3));\n",
              "      fill: #FFFFFF;\n",
              "    }\n",
              "  </style>\n",
              "\n",
              "    <script>\n",
              "      const buttonEl =\n",
              "        document.querySelector('#df-4e65b584-4975-497c-b477-23e2003726a5 button.colab-df-convert');\n",
              "      buttonEl.style.display =\n",
              "        google.colab.kernel.accessAllowed ? 'block' : 'none';\n",
              "\n",
              "      async function convertToInteractive(key) {\n",
              "        const element = document.querySelector('#df-4e65b584-4975-497c-b477-23e2003726a5');\n",
              "        const dataTable =\n",
              "          await google.colab.kernel.invokeFunction('convertToInteractive',\n",
              "                                                    [key], {});\n",
              "        if (!dataTable) return;\n",
              "\n",
              "        const docLinkHtml = 'Like what you see? Visit the ' +\n",
              "          '<a target=\"_blank\" href=https://colab.research.google.com/notebooks/data_table.ipynb>data table notebook</a>'\n",
              "          + ' to learn more about interactive tables.';\n",
              "        element.innerHTML = '';\n",
              "        dataTable['output_type'] = 'display_data';\n",
              "        await google.colab.output.renderOutput(dataTable, element);\n",
              "        const docLink = document.createElement('div');\n",
              "        docLink.innerHTML = docLinkHtml;\n",
              "        element.appendChild(docLink);\n",
              "      }\n",
              "    </script>\n",
              "  </div>\n",
              "\n",
              "\n",
              "<div id=\"df-43e70f82-9af1-4e84-840d-ff6a882e70f6\">\n",
              "  <button class=\"colab-df-quickchart\" onclick=\"quickchart('df-43e70f82-9af1-4e84-840d-ff6a882e70f6')\"\n",
              "            title=\"Suggest charts.\"\n",
              "            style=\"display:none;\">\n",
              "\n",
              "<svg xmlns=\"http://www.w3.org/2000/svg\" height=\"24px\"viewBox=\"0 0 24 24\"\n",
              "     width=\"24px\">\n",
              "    <g>\n",
              "        <path d=\"M19 3H5c-1.1 0-2 .9-2 2v14c0 1.1.9 2 2 2h14c1.1 0 2-.9 2-2V5c0-1.1-.9-2-2-2zM9 17H7v-7h2v7zm4 0h-2V7h2v10zm4 0h-2v-4h2v4z\"/>\n",
              "    </g>\n",
              "</svg>\n",
              "  </button>\n",
              "\n",
              "<style>\n",
              "  .colab-df-quickchart {\n",
              "      --bg-color: #E8F0FE;\n",
              "      --fill-color: #1967D2;\n",
              "      --hover-bg-color: #E2EBFA;\n",
              "      --hover-fill-color: #174EA6;\n",
              "      --disabled-fill-color: #AAA;\n",
              "      --disabled-bg-color: #DDD;\n",
              "  }\n",
              "\n",
              "  [theme=dark] .colab-df-quickchart {\n",
              "      --bg-color: #3B4455;\n",
              "      --fill-color: #D2E3FC;\n",
              "      --hover-bg-color: #434B5C;\n",
              "      --hover-fill-color: #FFFFFF;\n",
              "      --disabled-bg-color: #3B4455;\n",
              "      --disabled-fill-color: #666;\n",
              "  }\n",
              "\n",
              "  .colab-df-quickchart {\n",
              "    background-color: var(--bg-color);\n",
              "    border: none;\n",
              "    border-radius: 50%;\n",
              "    cursor: pointer;\n",
              "    display: none;\n",
              "    fill: var(--fill-color);\n",
              "    height: 32px;\n",
              "    padding: 0;\n",
              "    width: 32px;\n",
              "  }\n",
              "\n",
              "  .colab-df-quickchart:hover {\n",
              "    background-color: var(--hover-bg-color);\n",
              "    box-shadow: 0 1px 2px rgba(60, 64, 67, 0.3), 0 1px 3px 1px rgba(60, 64, 67, 0.15);\n",
              "    fill: var(--button-hover-fill-color);\n",
              "  }\n",
              "\n",
              "  .colab-df-quickchart-complete:disabled,\n",
              "  .colab-df-quickchart-complete:disabled:hover {\n",
              "    background-color: var(--disabled-bg-color);\n",
              "    fill: var(--disabled-fill-color);\n",
              "    box-shadow: none;\n",
              "  }\n",
              "\n",
              "  .colab-df-spinner {\n",
              "    border: 2px solid var(--fill-color);\n",
              "    border-color: transparent;\n",
              "    border-bottom-color: var(--fill-color);\n",
              "    animation:\n",
              "      spin 1s steps(1) infinite;\n",
              "  }\n",
              "\n",
              "  @keyframes spin {\n",
              "    0% {\n",
              "      border-color: transparent;\n",
              "      border-bottom-color: var(--fill-color);\n",
              "      border-left-color: var(--fill-color);\n",
              "    }\n",
              "    20% {\n",
              "      border-color: transparent;\n",
              "      border-left-color: var(--fill-color);\n",
              "      border-top-color: var(--fill-color);\n",
              "    }\n",
              "    30% {\n",
              "      border-color: transparent;\n",
              "      border-left-color: var(--fill-color);\n",
              "      border-top-color: var(--fill-color);\n",
              "      border-right-color: var(--fill-color);\n",
              "    }\n",
              "    40% {\n",
              "      border-color: transparent;\n",
              "      border-right-color: var(--fill-color);\n",
              "      border-top-color: var(--fill-color);\n",
              "    }\n",
              "    60% {\n",
              "      border-color: transparent;\n",
              "      border-right-color: var(--fill-color);\n",
              "    }\n",
              "    80% {\n",
              "      border-color: transparent;\n",
              "      border-right-color: var(--fill-color);\n",
              "      border-bottom-color: var(--fill-color);\n",
              "    }\n",
              "    90% {\n",
              "      border-color: transparent;\n",
              "      border-bottom-color: var(--fill-color);\n",
              "    }\n",
              "  }\n",
              "</style>\n",
              "\n",
              "  <script>\n",
              "    async function quickchart(key) {\n",
              "      const quickchartButtonEl =\n",
              "        document.querySelector('#' + key + ' button');\n",
              "      quickchartButtonEl.disabled = true;  // To prevent multiple clicks.\n",
              "      quickchartButtonEl.classList.add('colab-df-spinner');\n",
              "      try {\n",
              "        const charts = await google.colab.kernel.invokeFunction(\n",
              "            'suggestCharts', [key], {});\n",
              "      } catch (error) {\n",
              "        console.error('Error during call to suggestCharts:', error);\n",
              "      }\n",
              "      quickchartButtonEl.classList.remove('colab-df-spinner');\n",
              "      quickchartButtonEl.classList.add('colab-df-quickchart-complete');\n",
              "    }\n",
              "    (() => {\n",
              "      let quickchartButtonEl =\n",
              "        document.querySelector('#df-43e70f82-9af1-4e84-840d-ff6a882e70f6 button');\n",
              "      quickchartButtonEl.style.display =\n",
              "        google.colab.kernel.accessAllowed ? 'block' : 'none';\n",
              "    })();\n",
              "  </script>\n",
              "</div>\n",
              "    </div>\n",
              "  </div>\n"
            ]
          },
          "metadata": {},
          "execution_count": 4
        }
      ]
    },
    {
      "cell_type": "markdown",
      "source": [
        "### Check number of classes in the target column"
      ],
      "metadata": {
        "id": "5a_FXAmlHYre"
      }
    },
    {
      "cell_type": "code",
      "source": [
        "cancer_df['target'].value_counts()"
      ],
      "metadata": {
        "colab": {
          "base_uri": "https://localhost:8080/"
        },
        "id": "YFEfm0ekAFeG",
        "outputId": "041b3718-0b3e-4b7e-ba20-aa1ed41995c1"
      },
      "execution_count": 5,
      "outputs": [
        {
          "output_type": "execute_result",
          "data": {
            "text/plain": [
              "1    357\n",
              "0    212\n",
              "Name: target, dtype: int64"
            ]
          },
          "metadata": {},
          "execution_count": 5
        }
      ]
    },
    {
      "cell_type": "markdown",
      "source": [
        "## 2. My version of KNeighborsClassifier\n",
        "\n",
        "The class takes in the k value (n_neighbors). The `fit` function simply converts X and Y training sets into arrays. Predictions are made using the `predict` function, which receives data points to be predicted, turns them into arrays, and returns a list of the prediction of each data point.\n",
        "\n",
        "The K-Nearest Neighbors algorithm is implemented in the `__most_neighbors` function, which underlies the `predict` function. It first calculates the euclidean distances from the data point to all points in the X training set. Then it stores a number of nearest points according to the `k value` and finally returns the majority class of the corresponding data points in Y training set."
      ],
      "metadata": {
        "id": "Hj7ZCNcaAOby"
      }
    },
    {
      "cell_type": "code",
      "source": [
        "class My_KNeighborsClassifier:\n",
        "    import numpy as np\n",
        "\n",
        "    def __init__(self,n_neighbors = 3):\n",
        "        self.n_neighbors = n_neighbors\n",
        "\n",
        "    def fit(self,X_train,Y_train):\n",
        "        self.X_train = np.array(X_train)\n",
        "        self.Y_train = np.array(Y_train)\n",
        "\n",
        "\n",
        "    def predict(self,x):\n",
        "        self.x = np.array(x)\n",
        "        preds = []\n",
        "        for i in range(len(self.x)):\n",
        "\n",
        "            pred = self.__most_neighbors(self.x[i],self.n_neighbors)\n",
        "            preds.append(pred)\n",
        "\n",
        "        return preds\n",
        "\n",
        "    def __most_neighbors(self,x,k):\n",
        "        from scipy.stats import mode\n",
        "\n",
        "        distances = []\n",
        "        points_indexes = []\n",
        "\n",
        "        for j , x_train in enumerate(self.X_train):\n",
        "\n",
        "            diff2 = (x - x_train)**2\n",
        "            dist = np.sqrt(diff2.sum())\n",
        "\n",
        "            if len(distances) < k:\n",
        "                distances.append(dist)\n",
        "                points_indexes.append(j)\n",
        "            else:\n",
        "                if dist < max(distances):\n",
        "                    replace = distances.index(max(distances))\n",
        "                    distances[replace] = dist\n",
        "                    points_indexes[replace] = j\n",
        "\n",
        "        classes = [self.Y_train[y] for y in points_indexes]\n",
        "\n",
        "        return int(mode(classes)[0])\n"
      ],
      "metadata": {
        "id": "UToVjWgFBY6f"
      },
      "execution_count": 6,
      "outputs": []
    },
    {
      "cell_type": "markdown",
      "source": [
        "## 3. Split the data\n",
        "The `train_test_split` function from `sklearn.model_selection` was used to split the dataset into train and test sets"
      ],
      "metadata": {
        "id": "sYjYDTEuFO4A"
      }
    },
    {
      "cell_type": "code",
      "source": [
        "# Split data\n",
        "from sklearn.model_selection import train_test_split\n",
        "\n",
        "X_train, X_test, y_train, y_test = train_test_split(X,Y, test_size = 0.2, random_state = 10)"
      ],
      "metadata": {
        "id": "VZ2VGFtZ4U60"
      },
      "execution_count": 7,
      "outputs": []
    },
    {
      "cell_type": "markdown",
      "source": [
        "## 4. Implementing my algorithm"
      ],
      "metadata": {
        "id": "3d351YsxFi8T"
      }
    },
    {
      "cell_type": "code",
      "source": [
        "# My algorithm\n",
        "my_kNN = My_KNeighborsClassifier(n_neighbors = 3)\n",
        "my_kNN.fit(X_train,y_train)\n",
        "my_ypred = my_kNN.predict(X_train)"
      ],
      "metadata": {
        "id": "CVcTPe4zE4-A"
      },
      "execution_count": 8,
      "outputs": []
    },
    {
      "cell_type": "markdown",
      "source": [
        "## 5. Implementing `sklearn` algorithm"
      ],
      "metadata": {
        "id": "Jqg3lunwFqrI"
      }
    },
    {
      "cell_type": "code",
      "source": [
        "# sklearn library\n",
        "from sklearn.neighbors import KNeighborsClassifier\n",
        "\n",
        "knn = KNeighborsClassifier(n_neighbors=3)\n",
        "knn.fit(X_train,y_train)\n",
        "sk_ypred = knn.predict(X_train)"
      ],
      "metadata": {
        "id": "FC8mkDblGxEd"
      },
      "execution_count": 9,
      "outputs": []
    },
    {
      "cell_type": "markdown",
      "source": [
        "## 6. Compare the predictions"
      ],
      "metadata": {
        "id": "iRaF_bUkGBuH"
      }
    },
    {
      "cell_type": "code",
      "source": [
        "# check whether my algorithm gives the same result as sklearn\n",
        "\n",
        "result = int((my_ypred == sk_ypred).mean()*100)\n",
        "\n",
        "print(\"My algorithm vs sklearn KNeighborsClassifier\\n\")\n",
        "print(f\"Percentage of matching results: {result} %\")"
      ],
      "metadata": {
        "colab": {
          "base_uri": "https://localhost:8080/"
        },
        "id": "SuTaw_hI8ClO",
        "outputId": "dc9d5ed7-4eed-4938-c177-4ffdab6dad89"
      },
      "execution_count": 10,
      "outputs": [
        {
          "output_type": "stream",
          "name": "stdout",
          "text": [
            "My algorithm vs sklearn KNeighborsClassifier\n",
            "\n",
            "Percentage of matching results: 100 %\n"
          ]
        }
      ]
    },
    {
      "cell_type": "markdown",
      "source": [
        "## 7. K-Fold Cross Validation to find the optimized k-value for the kNN model\n",
        "\n",
        "Now that my algorithm has been verified to return the same outcome as `sklearn KNeighborsClassifier`, K-Fold cross validation will be performed to find the best k-value to be used for each kNN model, using the accuracy score as the metric. A comparison will be made once again on the average train accuracy scores and the average validation accuracy scores of the implementations.\n",
        "\n",
        "`X_train` and `y_train` will be used as training data for the cross validation, and `X_test` and `y_test` will be the testing unseen data."
      ],
      "metadata": {
        "id": "F--gVZgnK3Sp"
      }
    },
    {
      "cell_type": "markdown",
      "source": [
        "### Create a K-Fold Cross validation function\n",
        "This function uses `KFold` function from `sklearn.model_selection` to randomly divide data into k sets. It trains and evaluates the model k times, each time using a different set as the validation set and others as training sets. It returns the mean training score and mean validation accuracy score at each k-value of KNeighbors.      "
      ],
      "metadata": {
        "id": "S_nUNV2tVqX2"
      }
    },
    {
      "cell_type": "code",
      "source": [
        "def cross_validate(max_k,model,X_train,y_train,random_state=10):\n",
        "    import numpy as np\n",
        "    from sklearn.model_selection import KFold\n",
        "    from sklearn.metrics import confusion_matrix\n",
        "    from sklearn.metrics import accuracy_score\n",
        "\n",
        "    kf = KFold(n_splits=5, random_state=random_state, shuffle=True)\n",
        "\n",
        "    train_accuracies = [[] for train in range(max_k)]\n",
        "    val_accuracies = [[] for val in range(max_k)]\n",
        "\n",
        "    # loop through k values\n",
        "    for k in range(1,max_k+1):\n",
        "        kNNCrossVal = model\n",
        "        kNNCrossVal.n_neighbors = k\n",
        "\n",
        "        iteration = 1\n",
        "        # K-Fold Cross Validation loop\n",
        "\n",
        "        for train_index, val_index in kf.split(X_train):\n",
        "            Xtr, Xval = X_train[train_index], X_train[val_index]\n",
        "            ytr, yval = y_train[train_index], y_train[val_index]\n",
        "\n",
        "\n",
        "            kNNCrossVal.fit(Xtr,ytr)\n",
        "\n",
        "            # make predictions\n",
        "\n",
        "            pred_train = kNNCrossVal.predict(Xtr)\n",
        "            pred_val = kNNCrossVal.predict(Xval)\n",
        "\n",
        "\n",
        "            # calculate training and validation accuracy and store\n",
        "            train_accuracies[k-1].append(accuracy_score(ytr, pred_train))\n",
        "            val_accuracies[k-1].append(accuracy_score(yval, pred_val))\n",
        "            print(f\"k = {k}: Iteration {iteration}\",end = \" \")\n",
        "            print(f\"train accuracy: {round(train_accuracies[k-1][iteration-1],4)}, val accuracy: {round(val_accuracies[k-1][iteration-1],4)}\")\n",
        "            iteration +=1\n",
        "\n",
        "    train_accuracy_mean = np.mean(train_accuracies, axis=1)\n",
        "    val_accuracy_mean = np.mean(val_accuracies, axis=1)\n",
        "\n",
        "    return list(train_accuracy_mean) , list(val_accuracy_mean)\n",
        "\n",
        "\n"
      ],
      "metadata": {
        "id": "K5kjn3xrLQOb"
      },
      "execution_count": 11,
      "outputs": []
    },
    {
      "cell_type": "markdown",
      "source": [
        "### Cross Validate my model and sklearn model\n",
        "Parse each model into the `cross_validate` function above, using `max_k = 30`"
      ],
      "metadata": {
        "id": "n9IvLvlCeGkX"
      }
    },
    {
      "cell_type": "code",
      "source": [
        "my_train_accuracy_mean, my_val_accuracy_mean  =  cross_validate(max_k = 30, model = My_KNeighborsClassifier(),X_train = X_train, y_train = y_train)"
      ],
      "metadata": {
        "colab": {
          "base_uri": "https://localhost:8080/"
        },
        "id": "-mGwunDN8ypk",
        "outputId": "919a7223-6637-4ca4-8bca-ad29078bae51"
      },
      "execution_count": 12,
      "outputs": [
        {
          "output_type": "stream",
          "name": "stdout",
          "text": [
            "k = 1: Iteration 1 train accuracy: 1.0, val accuracy: 0.9451\n",
            "k = 1: Iteration 2 train accuracy: 1.0, val accuracy: 0.956\n",
            "k = 1: Iteration 3 train accuracy: 1.0, val accuracy: 0.9121\n",
            "k = 1: Iteration 4 train accuracy: 1.0, val accuracy: 0.8681\n",
            "k = 1: Iteration 5 train accuracy: 1.0, val accuracy: 0.8901\n",
            "k = 2: Iteration 1 train accuracy: 0.967, val accuracy: 0.967\n",
            "k = 2: Iteration 2 train accuracy: 0.9643, val accuracy: 0.9451\n",
            "k = 2: Iteration 3 train accuracy: 0.9698, val accuracy: 0.9121\n",
            "k = 2: Iteration 4 train accuracy: 0.967, val accuracy: 0.8462\n",
            "k = 2: Iteration 5 train accuracy: 0.9698, val accuracy: 0.9231\n",
            "k = 3: Iteration 1 train accuracy: 0.9533, val accuracy: 0.978\n",
            "k = 3: Iteration 2 train accuracy: 0.9533, val accuracy: 0.9231\n",
            "k = 3: Iteration 3 train accuracy: 0.9588, val accuracy: 0.9451\n",
            "k = 3: Iteration 4 train accuracy: 0.9725, val accuracy: 0.8681\n",
            "k = 3: Iteration 5 train accuracy: 0.9588, val accuracy: 0.9231\n",
            "k = 4: Iteration 1 train accuracy: 0.9451, val accuracy: 0.967\n",
            "k = 4: Iteration 2 train accuracy: 0.956, val accuracy: 0.9451\n",
            "k = 4: Iteration 3 train accuracy: 0.9505, val accuracy: 0.9341\n",
            "k = 4: Iteration 4 train accuracy: 0.9615, val accuracy: 0.8462\n",
            "k = 4: Iteration 5 train accuracy: 0.9478, val accuracy: 0.9231\n",
            "k = 5: Iteration 1 train accuracy: 0.9451, val accuracy: 0.978\n",
            "k = 5: Iteration 2 train accuracy: 0.9505, val accuracy: 0.9341\n",
            "k = 5: Iteration 3 train accuracy: 0.9478, val accuracy: 0.9231\n",
            "k = 5: Iteration 4 train accuracy: 0.9588, val accuracy: 0.8681\n",
            "k = 5: Iteration 5 train accuracy: 0.9533, val accuracy: 0.9341\n",
            "k = 6: Iteration 1 train accuracy: 0.9341, val accuracy: 0.978\n",
            "k = 6: Iteration 2 train accuracy: 0.9478, val accuracy: 0.9451\n",
            "k = 6: Iteration 3 train accuracy: 0.9478, val accuracy: 0.9231\n",
            "k = 6: Iteration 4 train accuracy: 0.9588, val accuracy: 0.8681\n",
            "k = 6: Iteration 5 train accuracy: 0.9478, val accuracy: 0.9341\n",
            "k = 7: Iteration 1 train accuracy: 0.9341, val accuracy: 0.967\n",
            "k = 7: Iteration 2 train accuracy: 0.9423, val accuracy: 0.9341\n",
            "k = 7: Iteration 3 train accuracy: 0.9478, val accuracy: 0.9231\n",
            "k = 7: Iteration 4 train accuracy: 0.9505, val accuracy: 0.9011\n",
            "k = 7: Iteration 5 train accuracy: 0.9423, val accuracy: 0.9341\n",
            "k = 8: Iteration 1 train accuracy: 0.9341, val accuracy: 0.967\n",
            "k = 8: Iteration 2 train accuracy: 0.9423, val accuracy: 0.9451\n",
            "k = 8: Iteration 3 train accuracy: 0.9478, val accuracy: 0.9341\n",
            "k = 8: Iteration 4 train accuracy: 0.956, val accuracy: 0.9011\n",
            "k = 8: Iteration 5 train accuracy: 0.9451, val accuracy: 0.956\n",
            "k = 9: Iteration 1 train accuracy: 0.9313, val accuracy: 0.967\n",
            "k = 9: Iteration 2 train accuracy: 0.9423, val accuracy: 0.9341\n",
            "k = 9: Iteration 3 train accuracy: 0.9423, val accuracy: 0.9231\n",
            "k = 9: Iteration 4 train accuracy: 0.9588, val accuracy: 0.9121\n",
            "k = 9: Iteration 5 train accuracy: 0.9396, val accuracy: 0.967\n",
            "k = 10: Iteration 1 train accuracy: 0.9341, val accuracy: 0.956\n",
            "k = 10: Iteration 2 train accuracy: 0.9396, val accuracy: 0.9451\n",
            "k = 10: Iteration 3 train accuracy: 0.9396, val accuracy: 0.9231\n",
            "k = 10: Iteration 4 train accuracy: 0.9588, val accuracy: 0.9121\n",
            "k = 10: Iteration 5 train accuracy: 0.9423, val accuracy: 0.956\n",
            "k = 11: Iteration 1 train accuracy: 0.9286, val accuracy: 0.956\n",
            "k = 11: Iteration 2 train accuracy: 0.9396, val accuracy: 0.9231\n",
            "k = 11: Iteration 3 train accuracy: 0.9423, val accuracy: 0.9121\n",
            "k = 11: Iteration 4 train accuracy: 0.9505, val accuracy: 0.9121\n",
            "k = 11: Iteration 5 train accuracy: 0.9341, val accuracy: 0.9341\n",
            "k = 12: Iteration 1 train accuracy: 0.9313, val accuracy: 0.956\n",
            "k = 12: Iteration 2 train accuracy: 0.9341, val accuracy: 0.9231\n",
            "k = 12: Iteration 3 train accuracy: 0.9423, val accuracy: 0.9121\n",
            "k = 12: Iteration 4 train accuracy: 0.956, val accuracy: 0.9121\n",
            "k = 12: Iteration 5 train accuracy: 0.9313, val accuracy: 0.9451\n",
            "k = 13: Iteration 1 train accuracy: 0.9286, val accuracy: 0.956\n",
            "k = 13: Iteration 2 train accuracy: 0.9368, val accuracy: 0.9121\n",
            "k = 13: Iteration 3 train accuracy: 0.9423, val accuracy: 0.9231\n",
            "k = 13: Iteration 4 train accuracy: 0.9423, val accuracy: 0.9121\n",
            "k = 13: Iteration 5 train accuracy: 0.9286, val accuracy: 0.956\n",
            "k = 14: Iteration 1 train accuracy: 0.9313, val accuracy: 0.956\n",
            "k = 14: Iteration 2 train accuracy: 0.9368, val accuracy: 0.9231\n",
            "k = 14: Iteration 3 train accuracy: 0.9423, val accuracy: 0.9231\n",
            "k = 14: Iteration 4 train accuracy: 0.9478, val accuracy: 0.9121\n",
            "k = 14: Iteration 5 train accuracy: 0.9313, val accuracy: 0.956\n",
            "k = 15: Iteration 1 train accuracy: 0.9286, val accuracy: 0.956\n",
            "k = 15: Iteration 2 train accuracy: 0.9368, val accuracy: 0.9231\n",
            "k = 15: Iteration 3 train accuracy: 0.9423, val accuracy: 0.9231\n",
            "k = 15: Iteration 4 train accuracy: 0.9423, val accuracy: 0.9121\n",
            "k = 15: Iteration 5 train accuracy: 0.9313, val accuracy: 0.956\n",
            "k = 16: Iteration 1 train accuracy: 0.9313, val accuracy: 0.956\n",
            "k = 16: Iteration 2 train accuracy: 0.9368, val accuracy: 0.9231\n",
            "k = 16: Iteration 3 train accuracy: 0.9396, val accuracy: 0.9231\n",
            "k = 16: Iteration 4 train accuracy: 0.9423, val accuracy: 0.9121\n",
            "k = 16: Iteration 5 train accuracy: 0.9341, val accuracy: 0.956\n",
            "k = 17: Iteration 1 train accuracy: 0.9313, val accuracy: 0.956\n",
            "k = 17: Iteration 2 train accuracy: 0.9368, val accuracy: 0.9121\n",
            "k = 17: Iteration 3 train accuracy: 0.9396, val accuracy: 0.9231\n",
            "k = 17: Iteration 4 train accuracy: 0.9451, val accuracy: 0.9121\n",
            "k = 17: Iteration 5 train accuracy: 0.9313, val accuracy: 0.9451\n",
            "k = 18: Iteration 1 train accuracy: 0.9313, val accuracy: 0.956\n",
            "k = 18: Iteration 2 train accuracy: 0.9368, val accuracy: 0.9231\n",
            "k = 18: Iteration 3 train accuracy: 0.9396, val accuracy: 0.9231\n",
            "k = 18: Iteration 4 train accuracy: 0.9396, val accuracy: 0.9121\n",
            "k = 18: Iteration 5 train accuracy: 0.9313, val accuracy: 0.9451\n",
            "k = 19: Iteration 1 train accuracy: 0.9286, val accuracy: 0.956\n",
            "k = 19: Iteration 2 train accuracy: 0.9368, val accuracy: 0.9121\n",
            "k = 19: Iteration 3 train accuracy: 0.9368, val accuracy: 0.9231\n",
            "k = 19: Iteration 4 train accuracy: 0.9396, val accuracy: 0.9121\n",
            "k = 19: Iteration 5 train accuracy: 0.9286, val accuracy: 0.9341\n",
            "k = 20: Iteration 1 train accuracy: 0.9313, val accuracy: 0.956\n",
            "k = 20: Iteration 2 train accuracy: 0.9368, val accuracy: 0.9121\n",
            "k = 20: Iteration 3 train accuracy: 0.9368, val accuracy: 0.9231\n",
            "k = 20: Iteration 4 train accuracy: 0.9423, val accuracy: 0.9231\n",
            "k = 20: Iteration 5 train accuracy: 0.9286, val accuracy: 0.9451\n",
            "k = 21: Iteration 1 train accuracy: 0.9286, val accuracy: 0.956\n",
            "k = 21: Iteration 2 train accuracy: 0.9341, val accuracy: 0.9121\n",
            "k = 21: Iteration 3 train accuracy: 0.9313, val accuracy: 0.9231\n",
            "k = 21: Iteration 4 train accuracy: 0.9368, val accuracy: 0.9341\n",
            "k = 21: Iteration 5 train accuracy: 0.9231, val accuracy: 0.9341\n",
            "k = 22: Iteration 1 train accuracy: 0.9286, val accuracy: 0.956\n",
            "k = 22: Iteration 2 train accuracy: 0.9341, val accuracy: 0.9011\n",
            "k = 22: Iteration 3 train accuracy: 0.9313, val accuracy: 0.9231\n",
            "k = 22: Iteration 4 train accuracy: 0.9396, val accuracy: 0.9341\n",
            "k = 22: Iteration 5 train accuracy: 0.9231, val accuracy: 0.9341\n",
            "k = 23: Iteration 1 train accuracy: 0.9286, val accuracy: 0.9451\n",
            "k = 23: Iteration 2 train accuracy: 0.9286, val accuracy: 0.9011\n",
            "k = 23: Iteration 3 train accuracy: 0.9286, val accuracy: 0.9231\n",
            "k = 23: Iteration 4 train accuracy: 0.9341, val accuracy: 0.9231\n",
            "k = 23: Iteration 5 train accuracy: 0.9231, val accuracy: 0.9341\n",
            "k = 24: Iteration 1 train accuracy: 0.9313, val accuracy: 0.9451\n",
            "k = 24: Iteration 2 train accuracy: 0.9286, val accuracy: 0.9011\n",
            "k = 24: Iteration 3 train accuracy: 0.9286, val accuracy: 0.9231\n",
            "k = 24: Iteration 4 train accuracy: 0.9368, val accuracy: 0.9341\n",
            "k = 24: Iteration 5 train accuracy: 0.9231, val accuracy: 0.9341\n",
            "k = 25: Iteration 1 train accuracy: 0.9258, val accuracy: 0.9451\n",
            "k = 25: Iteration 2 train accuracy: 0.9286, val accuracy: 0.9011\n",
            "k = 25: Iteration 3 train accuracy: 0.9258, val accuracy: 0.9231\n",
            "k = 25: Iteration 4 train accuracy: 0.9313, val accuracy: 0.9231\n",
            "k = 25: Iteration 5 train accuracy: 0.9203, val accuracy: 0.9231\n",
            "k = 26: Iteration 1 train accuracy: 0.9286, val accuracy: 0.9451\n",
            "k = 26: Iteration 2 train accuracy: 0.9286, val accuracy: 0.9011\n",
            "k = 26: Iteration 3 train accuracy: 0.9231, val accuracy: 0.9231\n",
            "k = 26: Iteration 4 train accuracy: 0.9313, val accuracy: 0.9231\n",
            "k = 26: Iteration 5 train accuracy: 0.9203, val accuracy: 0.9231\n",
            "k = 27: Iteration 1 train accuracy: 0.9176, val accuracy: 0.9451\n",
            "k = 27: Iteration 2 train accuracy: 0.9286, val accuracy: 0.9121\n",
            "k = 27: Iteration 3 train accuracy: 0.9203, val accuracy: 0.9231\n",
            "k = 27: Iteration 4 train accuracy: 0.9313, val accuracy: 0.9121\n",
            "k = 27: Iteration 5 train accuracy: 0.9176, val accuracy: 0.9231\n",
            "k = 28: Iteration 1 train accuracy: 0.9203, val accuracy: 0.9451\n",
            "k = 28: Iteration 2 train accuracy: 0.9286, val accuracy: 0.9121\n",
            "k = 28: Iteration 3 train accuracy: 0.9231, val accuracy: 0.9231\n",
            "k = 28: Iteration 4 train accuracy: 0.9313, val accuracy: 0.9231\n",
            "k = 28: Iteration 5 train accuracy: 0.9176, val accuracy: 0.9231\n",
            "k = 29: Iteration 1 train accuracy: 0.9148, val accuracy: 0.9451\n",
            "k = 29: Iteration 2 train accuracy: 0.9203, val accuracy: 0.9121\n",
            "k = 29: Iteration 3 train accuracy: 0.9176, val accuracy: 0.9231\n",
            "k = 29: Iteration 4 train accuracy: 0.9286, val accuracy: 0.9231\n",
            "k = 29: Iteration 5 train accuracy: 0.9176, val accuracy: 0.9231\n",
            "k = 30: Iteration 1 train accuracy: 0.9148, val accuracy: 0.9451\n",
            "k = 30: Iteration 2 train accuracy: 0.9258, val accuracy: 0.9121\n",
            "k = 30: Iteration 3 train accuracy: 0.9203, val accuracy: 0.9231\n",
            "k = 30: Iteration 4 train accuracy: 0.9286, val accuracy: 0.9231\n",
            "k = 30: Iteration 5 train accuracy: 0.9176, val accuracy: 0.9231\n"
          ]
        }
      ]
    },
    {
      "cell_type": "code",
      "source": [
        "sk_train_accuracy_mean , sk_val_accuracy_mean  = cross_validate(max_k = 30, model = KNeighborsClassifier(), X_train = X_train , y_train = y_train)"
      ],
      "metadata": {
        "colab": {
          "base_uri": "https://localhost:8080/"
        },
        "id": "zmMK-g-8Jkjt",
        "outputId": "2e6aae83-42e0-4a79-ed6c-3d931c86dcb6"
      },
      "execution_count": 13,
      "outputs": [
        {
          "output_type": "stream",
          "name": "stdout",
          "text": [
            "k = 1: Iteration 1 train accuracy: 1.0, val accuracy: 0.9451\n",
            "k = 1: Iteration 2 train accuracy: 1.0, val accuracy: 0.956\n",
            "k = 1: Iteration 3 train accuracy: 1.0, val accuracy: 0.9121\n",
            "k = 1: Iteration 4 train accuracy: 1.0, val accuracy: 0.8681\n",
            "k = 1: Iteration 5 train accuracy: 1.0, val accuracy: 0.8901\n",
            "k = 2: Iteration 1 train accuracy: 0.967, val accuracy: 0.967\n",
            "k = 2: Iteration 2 train accuracy: 0.9643, val accuracy: 0.9451\n",
            "k = 2: Iteration 3 train accuracy: 0.9698, val accuracy: 0.9121\n",
            "k = 2: Iteration 4 train accuracy: 0.967, val accuracy: 0.8462\n",
            "k = 2: Iteration 5 train accuracy: 0.9698, val accuracy: 0.9231\n",
            "k = 3: Iteration 1 train accuracy: 0.9533, val accuracy: 0.978\n",
            "k = 3: Iteration 2 train accuracy: 0.9533, val accuracy: 0.9231\n",
            "k = 3: Iteration 3 train accuracy: 0.9588, val accuracy: 0.9451\n",
            "k = 3: Iteration 4 train accuracy: 0.9725, val accuracy: 0.8681\n",
            "k = 3: Iteration 5 train accuracy: 0.9588, val accuracy: 0.9231\n",
            "k = 4: Iteration 1 train accuracy: 0.9451, val accuracy: 0.967\n",
            "k = 4: Iteration 2 train accuracy: 0.956, val accuracy: 0.9451\n",
            "k = 4: Iteration 3 train accuracy: 0.9505, val accuracy: 0.9341\n",
            "k = 4: Iteration 4 train accuracy: 0.9615, val accuracy: 0.8462\n",
            "k = 4: Iteration 5 train accuracy: 0.9478, val accuracy: 0.9231\n",
            "k = 5: Iteration 1 train accuracy: 0.9451, val accuracy: 0.978\n",
            "k = 5: Iteration 2 train accuracy: 0.9505, val accuracy: 0.9341\n",
            "k = 5: Iteration 3 train accuracy: 0.9478, val accuracy: 0.9231\n",
            "k = 5: Iteration 4 train accuracy: 0.9588, val accuracy: 0.8681\n",
            "k = 5: Iteration 5 train accuracy: 0.9533, val accuracy: 0.9341\n",
            "k = 6: Iteration 1 train accuracy: 0.9341, val accuracy: 0.978\n",
            "k = 6: Iteration 2 train accuracy: 0.9478, val accuracy: 0.9451\n",
            "k = 6: Iteration 3 train accuracy: 0.9478, val accuracy: 0.9231\n",
            "k = 6: Iteration 4 train accuracy: 0.9588, val accuracy: 0.8681\n",
            "k = 6: Iteration 5 train accuracy: 0.9478, val accuracy: 0.9341\n",
            "k = 7: Iteration 1 train accuracy: 0.9341, val accuracy: 0.967\n",
            "k = 7: Iteration 2 train accuracy: 0.9423, val accuracy: 0.9341\n",
            "k = 7: Iteration 3 train accuracy: 0.9478, val accuracy: 0.9231\n",
            "k = 7: Iteration 4 train accuracy: 0.9505, val accuracy: 0.9011\n",
            "k = 7: Iteration 5 train accuracy: 0.9423, val accuracy: 0.9341\n",
            "k = 8: Iteration 1 train accuracy: 0.9341, val accuracy: 0.967\n",
            "k = 8: Iteration 2 train accuracy: 0.9423, val accuracy: 0.9451\n",
            "k = 8: Iteration 3 train accuracy: 0.9478, val accuracy: 0.9341\n",
            "k = 8: Iteration 4 train accuracy: 0.956, val accuracy: 0.9011\n",
            "k = 8: Iteration 5 train accuracy: 0.9451, val accuracy: 0.956\n",
            "k = 9: Iteration 1 train accuracy: 0.9313, val accuracy: 0.967\n",
            "k = 9: Iteration 2 train accuracy: 0.9423, val accuracy: 0.9341\n",
            "k = 9: Iteration 3 train accuracy: 0.9423, val accuracy: 0.9231\n",
            "k = 9: Iteration 4 train accuracy: 0.9588, val accuracy: 0.9121\n",
            "k = 9: Iteration 5 train accuracy: 0.9396, val accuracy: 0.967\n",
            "k = 10: Iteration 1 train accuracy: 0.9341, val accuracy: 0.956\n",
            "k = 10: Iteration 2 train accuracy: 0.9396, val accuracy: 0.9451\n",
            "k = 10: Iteration 3 train accuracy: 0.9396, val accuracy: 0.9231\n",
            "k = 10: Iteration 4 train accuracy: 0.9588, val accuracy: 0.9121\n",
            "k = 10: Iteration 5 train accuracy: 0.9423, val accuracy: 0.956\n",
            "k = 11: Iteration 1 train accuracy: 0.9286, val accuracy: 0.956\n",
            "k = 11: Iteration 2 train accuracy: 0.9396, val accuracy: 0.9231\n",
            "k = 11: Iteration 3 train accuracy: 0.9423, val accuracy: 0.9121\n",
            "k = 11: Iteration 4 train accuracy: 0.9505, val accuracy: 0.9121\n",
            "k = 11: Iteration 5 train accuracy: 0.9341, val accuracy: 0.9341\n",
            "k = 12: Iteration 1 train accuracy: 0.9313, val accuracy: 0.956\n",
            "k = 12: Iteration 2 train accuracy: 0.9341, val accuracy: 0.9231\n",
            "k = 12: Iteration 3 train accuracy: 0.9423, val accuracy: 0.9121\n",
            "k = 12: Iteration 4 train accuracy: 0.956, val accuracy: 0.9121\n",
            "k = 12: Iteration 5 train accuracy: 0.9313, val accuracy: 0.9451\n",
            "k = 13: Iteration 1 train accuracy: 0.9286, val accuracy: 0.956\n",
            "k = 13: Iteration 2 train accuracy: 0.9368, val accuracy: 0.9121\n",
            "k = 13: Iteration 3 train accuracy: 0.9423, val accuracy: 0.9231\n",
            "k = 13: Iteration 4 train accuracy: 0.9423, val accuracy: 0.9121\n",
            "k = 13: Iteration 5 train accuracy: 0.9286, val accuracy: 0.956\n",
            "k = 14: Iteration 1 train accuracy: 0.9313, val accuracy: 0.956\n",
            "k = 14: Iteration 2 train accuracy: 0.9368, val accuracy: 0.9231\n",
            "k = 14: Iteration 3 train accuracy: 0.9423, val accuracy: 0.9231\n",
            "k = 14: Iteration 4 train accuracy: 0.9478, val accuracy: 0.9121\n",
            "k = 14: Iteration 5 train accuracy: 0.9313, val accuracy: 0.956\n",
            "k = 15: Iteration 1 train accuracy: 0.9286, val accuracy: 0.956\n",
            "k = 15: Iteration 2 train accuracy: 0.9368, val accuracy: 0.9231\n",
            "k = 15: Iteration 3 train accuracy: 0.9423, val accuracy: 0.9231\n",
            "k = 15: Iteration 4 train accuracy: 0.9423, val accuracy: 0.9121\n",
            "k = 15: Iteration 5 train accuracy: 0.9313, val accuracy: 0.956\n",
            "k = 16: Iteration 1 train accuracy: 0.9313, val accuracy: 0.956\n",
            "k = 16: Iteration 2 train accuracy: 0.9368, val accuracy: 0.9231\n",
            "k = 16: Iteration 3 train accuracy: 0.9396, val accuracy: 0.9231\n",
            "k = 16: Iteration 4 train accuracy: 0.9423, val accuracy: 0.9121\n",
            "k = 16: Iteration 5 train accuracy: 0.9341, val accuracy: 0.956\n",
            "k = 17: Iteration 1 train accuracy: 0.9313, val accuracy: 0.956\n",
            "k = 17: Iteration 2 train accuracy: 0.9368, val accuracy: 0.9121\n",
            "k = 17: Iteration 3 train accuracy: 0.9396, val accuracy: 0.9231\n",
            "k = 17: Iteration 4 train accuracy: 0.9451, val accuracy: 0.9121\n",
            "k = 17: Iteration 5 train accuracy: 0.9313, val accuracy: 0.9451\n",
            "k = 18: Iteration 1 train accuracy: 0.9313, val accuracy: 0.956\n",
            "k = 18: Iteration 2 train accuracy: 0.9368, val accuracy: 0.9231\n",
            "k = 18: Iteration 3 train accuracy: 0.9396, val accuracy: 0.9231\n",
            "k = 18: Iteration 4 train accuracy: 0.9396, val accuracy: 0.9121\n",
            "k = 18: Iteration 5 train accuracy: 0.9313, val accuracy: 0.9451\n",
            "k = 19: Iteration 1 train accuracy: 0.9286, val accuracy: 0.956\n",
            "k = 19: Iteration 2 train accuracy: 0.9368, val accuracy: 0.9121\n",
            "k = 19: Iteration 3 train accuracy: 0.9368, val accuracy: 0.9231\n",
            "k = 19: Iteration 4 train accuracy: 0.9396, val accuracy: 0.9121\n",
            "k = 19: Iteration 5 train accuracy: 0.9286, val accuracy: 0.9341\n",
            "k = 20: Iteration 1 train accuracy: 0.9313, val accuracy: 0.956\n",
            "k = 20: Iteration 2 train accuracy: 0.9368, val accuracy: 0.9121\n",
            "k = 20: Iteration 3 train accuracy: 0.9368, val accuracy: 0.9231\n",
            "k = 20: Iteration 4 train accuracy: 0.9423, val accuracy: 0.9231\n",
            "k = 20: Iteration 5 train accuracy: 0.9286, val accuracy: 0.9451\n",
            "k = 21: Iteration 1 train accuracy: 0.9286, val accuracy: 0.956\n",
            "k = 21: Iteration 2 train accuracy: 0.9341, val accuracy: 0.9121\n",
            "k = 21: Iteration 3 train accuracy: 0.9313, val accuracy: 0.9231\n",
            "k = 21: Iteration 4 train accuracy: 0.9368, val accuracy: 0.9341\n",
            "k = 21: Iteration 5 train accuracy: 0.9231, val accuracy: 0.9341\n",
            "k = 22: Iteration 1 train accuracy: 0.9286, val accuracy: 0.956\n",
            "k = 22: Iteration 2 train accuracy: 0.9341, val accuracy: 0.9011\n",
            "k = 22: Iteration 3 train accuracy: 0.9313, val accuracy: 0.9231\n",
            "k = 22: Iteration 4 train accuracy: 0.9396, val accuracy: 0.9341\n",
            "k = 22: Iteration 5 train accuracy: 0.9231, val accuracy: 0.9341\n",
            "k = 23: Iteration 1 train accuracy: 0.9286, val accuracy: 0.9451\n",
            "k = 23: Iteration 2 train accuracy: 0.9286, val accuracy: 0.9011\n",
            "k = 23: Iteration 3 train accuracy: 0.9286, val accuracy: 0.9231\n",
            "k = 23: Iteration 4 train accuracy: 0.9341, val accuracy: 0.9231\n",
            "k = 23: Iteration 5 train accuracy: 0.9231, val accuracy: 0.9341\n",
            "k = 24: Iteration 1 train accuracy: 0.9313, val accuracy: 0.9451\n",
            "k = 24: Iteration 2 train accuracy: 0.9286, val accuracy: 0.9011\n",
            "k = 24: Iteration 3 train accuracy: 0.9286, val accuracy: 0.9231\n",
            "k = 24: Iteration 4 train accuracy: 0.9368, val accuracy: 0.9341\n",
            "k = 24: Iteration 5 train accuracy: 0.9231, val accuracy: 0.9341\n",
            "k = 25: Iteration 1 train accuracy: 0.9258, val accuracy: 0.9451\n",
            "k = 25: Iteration 2 train accuracy: 0.9286, val accuracy: 0.9011\n",
            "k = 25: Iteration 3 train accuracy: 0.9258, val accuracy: 0.9231\n",
            "k = 25: Iteration 4 train accuracy: 0.9313, val accuracy: 0.9231\n",
            "k = 25: Iteration 5 train accuracy: 0.9203, val accuracy: 0.9231\n",
            "k = 26: Iteration 1 train accuracy: 0.9286, val accuracy: 0.9451\n",
            "k = 26: Iteration 2 train accuracy: 0.9286, val accuracy: 0.9011\n",
            "k = 26: Iteration 3 train accuracy: 0.9231, val accuracy: 0.9231\n",
            "k = 26: Iteration 4 train accuracy: 0.9313, val accuracy: 0.9231\n",
            "k = 26: Iteration 5 train accuracy: 0.9203, val accuracy: 0.9231\n",
            "k = 27: Iteration 1 train accuracy: 0.9176, val accuracy: 0.9451\n",
            "k = 27: Iteration 2 train accuracy: 0.9286, val accuracy: 0.9121\n",
            "k = 27: Iteration 3 train accuracy: 0.9203, val accuracy: 0.9231\n",
            "k = 27: Iteration 4 train accuracy: 0.9313, val accuracy: 0.9121\n",
            "k = 27: Iteration 5 train accuracy: 0.9176, val accuracy: 0.9231\n",
            "k = 28: Iteration 1 train accuracy: 0.9203, val accuracy: 0.9451\n",
            "k = 28: Iteration 2 train accuracy: 0.9286, val accuracy: 0.9121\n",
            "k = 28: Iteration 3 train accuracy: 0.9231, val accuracy: 0.9231\n",
            "k = 28: Iteration 4 train accuracy: 0.9313, val accuracy: 0.9231\n",
            "k = 28: Iteration 5 train accuracy: 0.9176, val accuracy: 0.9231\n",
            "k = 29: Iteration 1 train accuracy: 0.9148, val accuracy: 0.9451\n",
            "k = 29: Iteration 2 train accuracy: 0.9203, val accuracy: 0.9121\n",
            "k = 29: Iteration 3 train accuracy: 0.9176, val accuracy: 0.9231\n",
            "k = 29: Iteration 4 train accuracy: 0.9286, val accuracy: 0.9231\n",
            "k = 29: Iteration 5 train accuracy: 0.9176, val accuracy: 0.9231\n",
            "k = 30: Iteration 1 train accuracy: 0.9148, val accuracy: 0.9451\n",
            "k = 30: Iteration 2 train accuracy: 0.9258, val accuracy: 0.9121\n",
            "k = 30: Iteration 3 train accuracy: 0.9203, val accuracy: 0.9231\n",
            "k = 30: Iteration 4 train accuracy: 0.9286, val accuracy: 0.9231\n",
            "k = 30: Iteration 5 train accuracy: 0.9176, val accuracy: 0.9231\n"
          ]
        }
      ]
    },
    {
      "cell_type": "markdown",
      "source": [
        "### Check if both models obtain the same cross validation results\n",
        "Comparing mean training accuracy scores and mean validation accuracy scores of both models"
      ],
      "metadata": {
        "id": "p8yvL8Moepsh"
      }
    },
    {
      "cell_type": "code",
      "source": [
        "## Check train_accuracy_mean\n",
        "my_train_accuracy_mean == sk_train_accuracy_mean"
      ],
      "metadata": {
        "colab": {
          "base_uri": "https://localhost:8080/"
        },
        "id": "B4Qutif8PiaO",
        "outputId": "92df2cd6-b6ef-4674-8644-aa1607bdc771"
      },
      "execution_count": 14,
      "outputs": [
        {
          "output_type": "execute_result",
          "data": {
            "text/plain": [
              "True"
            ]
          },
          "metadata": {},
          "execution_count": 14
        }
      ]
    },
    {
      "cell_type": "code",
      "source": [
        "## Check val_accuracy_mean\n",
        "my_val_accuracy_mean == sk_val_accuracy_mean"
      ],
      "metadata": {
        "colab": {
          "base_uri": "https://localhost:8080/"
        },
        "id": "XBmLb1w2PnTu",
        "outputId": "c4a8fa1b-dcf3-40a3-e23b-97e1688511c3"
      },
      "execution_count": 15,
      "outputs": [
        {
          "output_type": "execute_result",
          "data": {
            "text/plain": [
              "True"
            ]
          },
          "metadata": {},
          "execution_count": 15
        }
      ]
    },
    {
      "cell_type": "markdown",
      "source": [
        "### Plot a graph of mean accuracy against k values\n",
        "It can be seen that both my algorithm and `sklearn` implementation provided the same results. The graph also shows that at k = 8, the validation accuracy is at its peak. Therefore, this k-value will be used in the final model.\n"
      ],
      "metadata": {
        "id": "QRKT2TS9fBUN"
      }
    },
    {
      "cell_type": "code",
      "source": [
        "import matplotlib.pyplot as plt\n",
        "%matplotlib inline\n",
        "max_k = 30\n",
        "fig = plt.figure()\n",
        "x = list(range(1,max_k+1))\n",
        "plt.plot(x,sk_train_accuracy_mean, label = 'sk Training Accuracy')\n",
        "plt.plot(x,sk_val_accuracy_mean, label = 'sk Validation Accuracy')\n",
        "plt.plot(x,my_train_accuracy_mean, label = 'My Training Accuracy')\n",
        "plt.plot(x,my_val_accuracy_mean, label = 'My Validation Accuracy')\n",
        "plt.xlabel('k')\n",
        "plt.xticks(x)\n",
        "plt.legend()"
      ],
      "metadata": {
        "colab": {
          "base_uri": "https://localhost:8080/",
          "height": 466
        },
        "id": "aEht0E72JMBB",
        "outputId": "cafd2353-86fe-45ed-9fe1-1e1d85ebf973"
      },
      "execution_count": 16,
      "outputs": [
        {
          "output_type": "execute_result",
          "data": {
            "text/plain": [
              "<matplotlib.legend.Legend at 0x7acbfe2f2ce0>"
            ]
          },
          "metadata": {},
          "execution_count": 16
        },
        {
          "output_type": "display_data",
          "data": {
            "text/plain": [
              "<Figure size 640x480 with 1 Axes>"
            ],
            "image/png": "[encoded data removed]"
          },
          "metadata": {}
        }
      ]
    },
    {
      "cell_type": "markdown",
      "source": [
        "### Optimum k-value\n",
        "Find the maximum mean validation accuracy and its corresponding mean training accuracy and its k-value.\n",
        "\n"
      ],
      "metadata": {
        "id": "i7a9uI2CgAEi"
      }
    },
    {
      "cell_type": "code",
      "source": [
        "## Max Validation accuracy:\n",
        "my_max = max(my_val_accuracy_mean)\n",
        "index = list({my_val_accuracy_mean.index(my_max)+1})[0]\n",
        "\n",
        "fig = .4\n",
        "\n",
        "print(f\" The maximum mean validation accuracy is {max(my_val_accuracy_mean):{fig}f}\")\n",
        "print(f\" and the correspoinding mean training accuracy is {my_train_accuracy_mean[index-1]:{fig}f}\")\n",
        "print(f\" where the k-value is {index}\")\n"
      ],
      "metadata": {
        "colab": {
          "base_uri": "https://localhost:8080/"
        },
        "id": "tkJFp681Jke0",
        "outputId": "ff10af22-8ff2-4d4b-ad07-5e285b46904b"
      },
      "execution_count": 17,
      "outputs": [
        {
          "output_type": "stream",
          "name": "stdout",
          "text": [
            " The maximum mean validation accuracy is 0.9407\n",
            " and the correspoinding mean training accuracy is 0.9451\n",
            " where the k-value is 8\n"
          ]
        }
      ]
    },
    {
      "cell_type": "markdown",
      "source": [
        "## 8. Apply the final k value to each model\n",
        "\n",
        "Both algorithms give exactly the same evaluation scores"
      ],
      "metadata": {
        "id": "dQYejKrEqivg"
      }
    },
    {
      "cell_type": "code",
      "source": [
        "from sklearn.metrics import precision_score, recall_score, accuracy_score\n",
        "\n",
        "my_kNN_test = My_KNeighborsClassifier(n_neighbors = 8)\n",
        "my_kNN_test.fit(X_train,y_train)\n",
        "ypred_test = my_kNN_test.predict(X_test)\n",
        "\n",
        "\n",
        "\n",
        "print(f\"Accuracy: {accuracy_score(y_test, ypred_test):{fig}f}\")\n",
        "print(f\"Precision: {precision_score(y_test, ypred_test):{fig}f}\")\n",
        "print(f\"Recall: {recall_score(y_test, ypred_test):{fig}f}\")\n"
      ],
      "metadata": {
        "colab": {
          "base_uri": "https://localhost:8080/"
        },
        "id": "AH_LEeoDQOEP",
        "outputId": "7fc61c77-ba94-417b-e365-6699e230a9f3"
      },
      "execution_count": 18,
      "outputs": [
        {
          "output_type": "stream",
          "name": "stdout",
          "text": [
            "Accuracy: 0.9298\n",
            "Precision: 0.9467\n",
            "Recall: 0.9467\n"
          ]
        }
      ]
    },
    {
      "cell_type": "code",
      "source": [
        "sk_kNN_test = KNeighborsClassifier(n_neighbors = 8)\n",
        "sk_kNN_test.fit(X_train,y_train)\n",
        "sk_ypred_test = sk_kNN_test.predict(X_test)\n",
        "\n",
        "print(f\"Accuracy: {accuracy_score(y_test, sk_ypred_test):{fig}f}\")\n",
        "print(f\"Precision: {precision_score(y_test, sk_ypred_test):{fig}f}\")\n",
        "print(f\"Recall: {recall_score(y_test, sk_ypred_test):{fig}f}\")"
      ],
      "metadata": {
        "colab": {
          "base_uri": "https://localhost:8080/"
        },
        "id": "pI850A7rTegG",
        "outputId": "a743abe3-ee59-4d75-ad0e-e3f5f6a3a3a6"
      },
      "execution_count": 20,
      "outputs": [
        {
          "output_type": "stream",
          "name": "stdout",
          "text": [
            "Accuracy: 0.9298\n",
            "Precision: 0.9467\n",
            "Recall: 0.9467\n"
          ]
        }
      ]
    },
    {
      "cell_type": "markdown",
      "source": [
        "# Evaluation\n",
        "For the selected k-value (8), the resulting accuracy scores from the KFold Cross Validation and the unseen testing data were  0.9407 and 0.9298 respectively, which were very close, suggesting that both `My_KNeighbors` and `sklearn KNeighbors` generalised with the unseen data."
      ],
      "metadata": {
        "id": "9OYjcldWqwlh"
      }
    }
  ]
}