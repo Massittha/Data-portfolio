{
  "nbformat": 4,
  "nbformat_minor": 0,
  "metadata": {
    "colab": {
      "provenance": [],
      "authorship_tag": "ABX9TyMTlPRjGgKTZY5ZuhZYZsJM",
      "include_colab_link": true
    },
    "kernelspec": {
      "name": "python3",
      "display_name": "Python 3"
    },
    "language_info": {
      "name": "python"
    }
  },
  "cells": [
    {
      "cell_type": "markdown",
      "metadata": {
        "id": "view-in-github",
        "colab_type": "text"
      },
      "source": [
        "<a href=\"https://colab.research.google.com/github/Massittha/Data-portfolio/blob/main/hw03_API.ipynb\" target=\"_parent\"><img src=\"https://colab.research.google.com/assets/colab-badge.svg\" alt=\"Open In Colab\"/></a>"
      ]
    },
    {
      "cell_type": "markdown",
      "source": [
        "# HW03 Request data from Dattebayo API\n",
        "\n",
        "In this mini-project, I created a list containing dictionaries with information of all characters in the **Naruto Universe**, thanks to **Dattebayo API** (base link: https://dattebayo-api.onrender.com)\n",
        "\n",
        "First, I got the info of all characters from http://dattebayo-api.orender.com/characters and stored it in a list (`raw_data`)\n",
        "\n",
        "Then, I extracted separate lists of Uchiha and Uzumaki clans info.\n",
        "At the end, I also printed out the names of the members in the two clans.\n",
        "\n",
        "The documentation of the API is available at https://dattebayo-api.onrender.com"
      ],
      "metadata": {
        "id": "iZ9PVHKCoDzr"
      }
    },
    {
      "cell_type": "markdown",
      "source": [
        "## Using requests library to get info of all characters\n",
        "Info of all characters stored in `raw_data` in form of\n",
        "    \n",
        "    [{dict of character 1},{dict of character 2},....... ,{dict of character n}]"
      ],
      "metadata": {
        "id": "xT_6YIjvBneD"
      }
    },
    {
      "cell_type": "code",
      "source": [
        "import requests\n",
        "\n",
        "raw_data = [] # a list to contain data of all characters\n",
        "\n",
        "print(\"Requests started:\")\n",
        "page = 1\n",
        "number = 0\n",
        "while True:\n",
        "    response = requests.get(f\"https://dattebayo-api.onrender.com/characters/?search=a&page={page}\")\n",
        "\n",
        "    read_page = response.json()\n",
        "    characters = read_page[\"characters\"]\n",
        "    if  characters != []:\n",
        "        number += len(characters)\n",
        "        print (f\"Getting characters from page {page}: {len(characters)} characters \")\n",
        "        raw_data += characters\n",
        "        page+=1\n",
        "    else:\n",
        "        print(\"Request completed\")\n",
        "        print(f\"Info of {number} characters loaded\")\n",
        "        break\n"
      ],
      "metadata": {
        "colab": {
          "base_uri": "https://localhost:8080/"
        },
        "id": "cfe29Gi8GD0r",
        "outputId": "4ba8bcf1-7035-44f2-d78b-9419e3ae139c"
      },
      "execution_count": null,
      "outputs": [
        {
          "output_type": "stream",
          "name": "stdout",
          "text": [
            "Requests started:\n",
            "Getting characters from page 1: 20 characters \n",
            "Getting characters from page 2: 20 characters \n",
            "Getting characters from page 3: 20 characters \n",
            "Getting characters from page 4: 20 characters \n",
            "Getting characters from page 5: 20 characters \n",
            "Getting characters from page 6: 20 characters \n",
            "Getting characters from page 7: 20 characters \n",
            "Getting characters from page 8: 20 characters \n",
            "Getting characters from page 9: 20 characters \n",
            "Getting characters from page 10: 20 characters \n",
            "Getting characters from page 11: 20 characters \n",
            "Getting characters from page 12: 20 characters \n",
            "Getting characters from page 13: 20 characters \n",
            "Getting characters from page 14: 20 characters \n",
            "Getting characters from page 15: 20 characters \n",
            "Getting characters from page 16: 20 characters \n",
            "Getting characters from page 17: 20 characters \n",
            "Getting characters from page 18: 20 characters \n",
            "Getting characters from page 19: 20 characters \n",
            "Getting characters from page 20: 20 characters \n",
            "Getting characters from page 21: 20 characters \n",
            "Getting characters from page 22: 20 characters \n",
            "Getting characters from page 23: 20 characters \n",
            "Getting characters from page 24: 20 characters \n",
            "Getting characters from page 25: 20 characters \n",
            "Getting characters from page 26: 20 characters \n",
            "Getting characters from page 27: 20 characters \n",
            "Getting characters from page 28: 20 characters \n",
            "Getting characters from page 29: 20 characters \n",
            "Getting characters from page 30: 20 characters \n",
            "Getting characters from page 31: 20 characters \n",
            "Getting characters from page 32: 20 characters \n",
            "Getting characters from page 33: 20 characters \n",
            "Getting characters from page 34: 20 characters \n",
            "Getting characters from page 35: 20 characters \n",
            "Getting characters from page 36: 20 characters \n",
            "Getting characters from page 37: 20 characters \n",
            "Getting characters from page 38: 20 characters \n",
            "Getting characters from page 39: 20 characters \n",
            "Getting characters from page 40: 20 characters \n",
            "Getting characters from page 41: 20 characters \n",
            "Getting characters from page 42: 20 characters \n",
            "Getting characters from page 43: 20 characters \n",
            "Getting characters from page 44: 20 characters \n",
            "Getting characters from page 45: 20 characters \n",
            "Getting characters from page 46: 20 characters \n",
            "Getting characters from page 47: 20 characters \n",
            "Getting characters from page 48: 20 characters \n",
            "Getting characters from page 49: 20 characters \n",
            "Getting characters from page 50: 20 characters \n",
            "Getting characters from page 51: 20 characters \n",
            "Getting characters from page 52: 20 characters \n",
            "Getting characters from page 53: 20 characters \n",
            "Getting characters from page 54: 20 characters \n",
            "Getting characters from page 55: 20 characters \n",
            "Getting characters from page 56: 20 characters \n",
            "Getting characters from page 57: 20 characters \n",
            "Getting characters from page 58: 20 characters \n",
            "Getting characters from page 59: 20 characters \n",
            "Getting characters from page 60: 20 characters \n",
            "Getting characters from page 61: 20 characters \n",
            "Getting characters from page 62: 20 characters \n",
            "Getting characters from page 63: 20 characters \n",
            "Getting characters from page 64: 20 characters \n",
            "Getting characters from page 65: 20 characters \n",
            "Getting characters from page 66: 20 characters \n",
            "Getting characters from page 67: 20 characters \n",
            "Getting characters from page 68: 20 characters \n",
            "Getting characters from page 69: 20 characters \n",
            "Getting characters from page 70: 20 characters \n",
            "Getting characters from page 71: 20 characters \n",
            "Getting characters from page 72: 11 characters \n",
            "Request completed\n",
            "Info of 1431 characters loaded\n"
          ]
        }
      ]
    },
    {
      "cell_type": "code",
      "source": [
        "#showing the full info of Naruto Uzumaki:\n",
        "print(raw_data[0])"
      ],
      "metadata": {
        "colab": {
          "base_uri": "https://localhost:8080/"
        },
        "id": "XTS5CCdYKlZz",
        "outputId": "ea179149-c80f-4933-fe21-d0a2ecbd6932"
      },
      "execution_count": null,
      "outputs": [
        {
          "output_type": "stream",
          "name": "stdout",
          "text": [
            "{'id': 1344, 'name': 'Naruto Uzumaki', 'images': ['https://static.wikia.nocookie.net/naruto/images/d/d6/Naruto_Part_I.png', 'https://static.wikia.nocookie.net/naruto/images/7/7d/Naruto_Part_II.png'], 'debut': {'manga': 'Naruto Chapter #1', 'anime': 'Naruto Episode #1', 'novel': 'Naruto: Innocent Heart, Demonic Blood', 'movie': 'Naruto the Movie: Ninja Clash in the Land of Snow', 'game': 'Naruto: Konoha Ninpōchō', 'ova': 'Find the Four-Leaf Red Clover!', 'appearsIn': 'Anime, Manga, Novel, Game, Movie'}, 'family': {'father': 'Minato Namikaze', 'mother': 'Kushina Uzumaki', 'son': 'Boruto Uzumaki', 'daughter': 'Himawari Uzumaki', 'wife': 'Hinata Uzumaki', 'adoptive son': 'Kawaki', 'godfather': 'Jiraiya'}, 'jutsu': ['All Directions Shuriken', 'Baryon Mode', 'Big Ball Rasengan', 'Big Ball Rasenshuriken', 'Big Ball Spiralling Serial Zone Spheres', 'Boil Release: Unrivalled Strength', 'Chakra Transfer Technique', 'Clone Body Blow', 'Clone Flying Arrow', 'Clone Spinning Heel Drop (Anime only)', 'Combination Transformation', 'Continuous Tailed Beast Balls', 'Crescent Moon Rasengan', 'Earth Release: Earth-Style Wall', 'Erupting Propulsion Fist', 'Fire Release: Toad Oil Flame Bullet (Anime only)', 'Frog Kata', 'Frog Strike', 'Gelel Rasengan', 'Gentle Step Spiralling Twin Lion Fists', 'Guts Rasengan', 'Harem Technique', 'Hurricane Thunderclap — Majestic Attire Sword Stroke', 'Ink Creation', 'Kurama Arm Attack', 'Mini-Rasenshuriken', 'Multiple Shadow Clone Technique', 'Naruto Region Combo', 'Naruto Uzumaki Combo', 'Naruto Uzumaki Two Thousand Combo', \"Naruto and Shion's Super Chakra Rasengan\", 'Negative Emotions Sensing', 'New Sexy Technique', 'Nine-Tails Chakra Mode', 'Ninja Art: Bare-Handed Blade Block', 'One Thousand Years of Death', 'Pachinko Technique (Anime only)', 'Parachute', 'Parent and Child Rasengan', 'Planetary Rasengan', 'Rasengan', 'Rasengan: Flash', 'Regeneration Ability', 'Runt Ball Rasengan (Anime only)', 'Sage Art: Lava Release Rasenshuriken', 'Sage Art: Magnet Release Rasengan', 'Sage Art: Many Ultra-Big Ball Spiralling Serial Spheres', 'Sage Art: Super Tailed Beast Rasenshuriken', 'Sage Mode', 'Scorch Release: Halo Hurricane Jet Black Arrow Style Zero', 'Seven-Coloured Rasengan', 'Sexy Reverse Harem Technique', 'Sexy Technique', 'Sexy Technique: Pole Dance and Nice Body (Anime only)', 'Shadow Clone Technique', 'Shadow Shuriken Technique', 'Shuriken Shadow Clone Technique (Anime only)', 'Six Paths Sage Mode', 'Six Paths Senjutsu', 'Six Paths Yang Power', 'Six Paths — Chibaku Tensei', 'Six Paths: Ultra-Big Ball Rasenshuriken', 'Soap Bubble Ninjutsu (Anime only)', 'Spiralling Absorption Sphere', 'Spiralling Serial Spheres', 'Spiralling Strife Spheres', 'Strong Fist (Anime only)', 'Summoning Technique (Toad)', 'Summoning: Food Cart Destroyer Technique', 'Super Mini-Tailed Beast Ball', 'Super-Ultra-Big Ball Rasengan', 'Supreme Ultimate Rasengan', 'Tailed Beast Ball', 'Tailed Beast Ball Rasenshuriken', 'Tailed Beast Chakra Arms', 'Tailed Beast Full Charge', 'Tailed Beast Rasengan', 'Tailed Beast Shockwave', 'Torii Seal', 'Tornado Rasengan', 'Truth-Seeking Ball', 'Turning into a Frog Technique (Anime only)', 'Typhoon Water Vortex Technique', 'Ultra-Big Ball Rasengan', 'Ultra-Many Spiralling Serial Spheres', 'Uzumaki Formation (Anime only)', 'Wind Release: Rasengan', 'Wind Release: Rasenshuriken', 'Wind Release: Repeated Rasenshuriken', 'Wind Release: Toad Gun (Anime only)', 'Wind Release: Toad Oil Bullet (Anime only)', 'Wind Release: Toad Oil Flame Bullet (Anime only)', 'Wind Release: Ultra-Big Ball Rasenshuriken', 'Wisdom Wolf Decay'], 'natureType': ['Wind Release  (Affinity)', 'Lightning Release', 'Earth Release', 'Water Release', 'Fire Release', 'Lava Release', 'Magnet Release', 'Boil Release', 'Yin Release', 'Yang Release', 'Yin–Yang Release'], 'personal': {'birthdate': 'October 10', 'sex': 'Male', 'age': {'Part I': '12–13', 'Part II': '15–17', 'Academy Graduate': '12'}, 'height': {'Part I': '145.3cm - 147.5cm', 'Part II': '166cm', 'Blank Period': '180cm'}, 'weight': {'Part I': '40.1kg - 40.6kg', 'Part II': '50.9kg'}, 'bloodType': 'B', 'kekkeiGenkai': ['Lava Release', 'Magnet Release', 'Boil Release'], 'classification': ['Jinchūriki', 'Sage', 'Sensor Type'], 'tailedBeast': 'Shukaku, Matatabi, Isobu, Son Gokū, Kokuō, Saiken, Chōmei, Gyūki, Kurama (Forms)', 'occupation': ['Hokage', 'Chūnin Exams Proctor  (Anime only)'], 'affiliation': ['Konohagakure', 'Mount Myōboku', 'Allied Shinobi Forces'], 'team': ['Team Kakashi', 'Sasuke Recovery Team', 'Konoha 11  (Anime only)', 'Bikōchū Search Team  (Anime only)', 'Kaima Capture Team  (Anime only)', 'Star Guard Team  (Anime only)', 'Peddlers Escort Team  (Anime only)', 'Kazekage Rescue Team', 'Team One  (Anime only)', 'Eight Man Squad', 'Hanabi Rescue Team  (Movie only)'], 'clan': 'Uzumaki', 'titles': ['うずまきナルトUzumakiNaruto', 'the-off,NumberOneUnpredictable,NoisyNinja(目立ちたがり屋で意外性no.1のドタバタ忍者,MedachitagariyaDeIgaiseiNanbāWanNoDotabataNinja,EnglishTv:NumberOneHyperactive,KnuckleheadNinja)', 'childOfTheProphecy(予言の子,YogenNoKo)', 'saviourOfThisWorld(この世の救世主,KonoYoNoKyūseishu)', 'heroOfTheHiddenLeaf(木ノ葉隠れの英雄,KonohagakureNoEiyū,LiterallyMeaning:HeroOfTheHiddenTreeLeaves)', 'boyOfMiracles(奇跡を起こす少年,KisekiOOkosuShōnen)', \"konoha'sOrangeHokage(木ノ葉のオレンジ火影,KonohaNoOrenjiHokage,LiterallyMeaning:TreeLeaves'OrangeFireShadow)\", 'seventhHokage(七代目火影,NanadaimeHokage,LiterallyMeaning:SeventhFireShadow)', 'fox(狐,Kitsune)']}, 'rank': {'ninjaRank': {'Part I': 'Genin', 'Gaiden': 'Kage'}, 'ninjaRegistration': '012607'}, 'tools': ['Absorbing Hand', 'Bō (Anime only)', 'Chakra Blade (Anime only)', 'Flying Thunder God Kunai', 'Fūma Shuriken', 'Hidden Kunai Mechanism', 'Konoha Chakra Blade', 'Sand', 'Stone of Gelel'], 'voiceActors': {'japanese': ['Junko Takeuchi', 'Ema Kogure   (Sexy Technique)'], 'english': ['Maile Flanagan', 'Stephanie Sheh   (Sexy Technique)', 'Jeannie Elias   (Sexy Technique) (episode 53-55)', 'Mary Elizabeth McGlynn   (Sexy Technique) (episode 177)', 'Kate Higgins   (Sexy Technique) (episode 229)']}}\n"
          ]
        }
      ]
    },
    {
      "cell_type": "code",
      "source": [
        "#showing some data of the first 3 characters\n",
        "for i in range(3):\n",
        "    character = raw_data[i]\n",
        "    print(f\"Name: {character['name']}\" )\n",
        "    print(f\"jutsu: {character['jutsu']}\\n\")"
      ],
      "metadata": {
        "colab": {
          "base_uri": "https://localhost:8080/"
        },
        "id": "RNdjrdbkG9qS",
        "outputId": "46bab528-d580-451a-e330-3d20b6257ce3"
      },
      "execution_count": null,
      "outputs": [
        {
          "output_type": "stream",
          "name": "stdout",
          "text": [
            "Name: Naruto Uzumaki\n",
            "jutsu: ['All Directions Shuriken', 'Baryon Mode', 'Big Ball Rasengan', 'Big Ball Rasenshuriken', 'Big Ball Spiralling Serial Zone Spheres', 'Boil Release: Unrivalled Strength', 'Chakra Transfer Technique', 'Clone Body Blow', 'Clone Flying Arrow', 'Clone Spinning Heel Drop (Anime only)', 'Combination Transformation', 'Continuous Tailed Beast Balls', 'Crescent Moon Rasengan', 'Earth Release: Earth-Style Wall', 'Erupting Propulsion Fist', 'Fire Release: Toad Oil Flame Bullet (Anime only)', 'Frog Kata', 'Frog Strike', 'Gelel Rasengan', 'Gentle Step Spiralling Twin Lion Fists', 'Guts Rasengan', 'Harem Technique', 'Hurricane Thunderclap — Majestic Attire Sword Stroke', 'Ink Creation', 'Kurama Arm Attack', 'Mini-Rasenshuriken', 'Multiple Shadow Clone Technique', 'Naruto Region Combo', 'Naruto Uzumaki Combo', 'Naruto Uzumaki Two Thousand Combo', \"Naruto and Shion's Super Chakra Rasengan\", 'Negative Emotions Sensing', 'New Sexy Technique', 'Nine-Tails Chakra Mode', 'Ninja Art: Bare-Handed Blade Block', 'One Thousand Years of Death', 'Pachinko Technique (Anime only)', 'Parachute', 'Parent and Child Rasengan', 'Planetary Rasengan', 'Rasengan', 'Rasengan: Flash', 'Regeneration Ability', 'Runt Ball Rasengan (Anime only)', 'Sage Art: Lava Release Rasenshuriken', 'Sage Art: Magnet Release Rasengan', 'Sage Art: Many Ultra-Big Ball Spiralling Serial Spheres', 'Sage Art: Super Tailed Beast Rasenshuriken', 'Sage Mode', 'Scorch Release: Halo Hurricane Jet Black Arrow Style Zero', 'Seven-Coloured Rasengan', 'Sexy Reverse Harem Technique', 'Sexy Technique', 'Sexy Technique: Pole Dance and Nice Body (Anime only)', 'Shadow Clone Technique', 'Shadow Shuriken Technique', 'Shuriken Shadow Clone Technique (Anime only)', 'Six Paths Sage Mode', 'Six Paths Senjutsu', 'Six Paths Yang Power', 'Six Paths — Chibaku Tensei', 'Six Paths: Ultra-Big Ball Rasenshuriken', 'Soap Bubble Ninjutsu (Anime only)', 'Spiralling Absorption Sphere', 'Spiralling Serial Spheres', 'Spiralling Strife Spheres', 'Strong Fist (Anime only)', 'Summoning Technique (Toad)', 'Summoning: Food Cart Destroyer Technique', 'Super Mini-Tailed Beast Ball', 'Super-Ultra-Big Ball Rasengan', 'Supreme Ultimate Rasengan', 'Tailed Beast Ball', 'Tailed Beast Ball Rasenshuriken', 'Tailed Beast Chakra Arms', 'Tailed Beast Full Charge', 'Tailed Beast Rasengan', 'Tailed Beast Shockwave', 'Torii Seal', 'Tornado Rasengan', 'Truth-Seeking Ball', 'Turning into a Frog Technique (Anime only)', 'Typhoon Water Vortex Technique', 'Ultra-Big Ball Rasengan', 'Ultra-Many Spiralling Serial Spheres', 'Uzumaki Formation (Anime only)', 'Wind Release: Rasengan', 'Wind Release: Rasenshuriken', 'Wind Release: Repeated Rasenshuriken', 'Wind Release: Toad Gun (Anime only)', 'Wind Release: Toad Oil Bullet (Anime only)', 'Wind Release: Toad Oil Flame Bullet (Anime only)', 'Wind Release: Ultra-Big Ball Rasenshuriken', 'Wisdom Wolf Decay']\n",
            "\n",
            "Name: Sasuke Uchiha\n",
            "jutsu: ['Afterglow', 'Amaterasu', 'Amaterasu: Flame Wrapping Fire', 'Amenotejikara', 'Animal Path', 'Area Scanning Technique', 'Asura Path', \"Banshō Ten'in (Anime only)\", 'Binding Snake Glare Spell', 'Blaze Release: Honoikazuchi (Anime only)', 'Blaze Release: Kagutsuchi', 'Blaze Release: Susanoo Kagutsuchi', 'Blaze Release: Yasaka Magatama', 'Chibaku Tensei', 'Chidori', 'Chidori Current', 'Chidori Light Sword', 'Chidori Senbon', 'Chidori Sharp Spear', 'Coercion Sharingan', 'Combination Transformation (Anime only)', 'Cursed Seal of Heaven', 'Demonic Illusion: Mirage Crow', 'Demonic Illusion: Shackling Stakes Technique', 'Deva Path', 'Earth Release: Stone Luster', 'Evil Releasing Method', 'Fire Release: Dragon Fire Technique', 'Fire Release: Great Dragon Fire Technique', 'Fire Release: Great Fireball Technique', 'Fire Release: Phoenix Sage Fire Technique', 'Genjutsu: Sharingan', 'Hidden Shadow Snake Hands', 'Human Path', 'Hurricane Thunderclap — Majestic Attire Sword Stroke', \"Indra's Arrow\", 'Kirin', 'Lightning Flash', 'Lion Combo', 'Lorentz Gun (Novel only)', 'Majestic Attire: Susanoo', 'Manipulated Shuriken Technique', 'Manipulating Windmill Triple Blades', 'Moonlight', 'Naka Shrine Pass Technique', 'Naraka Path', 'Orochimaru-Style Body Replacement Technique', 'Outer Path', 'Pachinko Technique (Anime only)', 'Peregrine Falcon Drop', 'Preta Path', 'Reverse Summoning Technique', \"Sasuke Uchiha's Space–Time Dōjutsu\", 'Scorch Release: Halo Hurricane Jet Black Arrow Style Zero', 'Shadow Clone Technique', 'Shadow Shuriken Technique', 'Shadow of the Dancing Leaf', 'Six Paths Technique', 'Six Paths Yin Power', 'Six Paths — Chibaku Tensei', 'Strong Fist', 'Summoning Technique (Hawk, Snake)', 'Summoning: Lightning Flash Blade Creation', 'Supercooled Water Technique', 'Surging Fire Wild Dance', 'Susanoo', 'Susanoo: Captive Slash', 'Susanoo: Chidori', 'Susanoo: Crush', 'Susanoo: Fist', 'Susanoo: Great Fireball Technique (Anime only)', 'Sword of Kagutsuchi', 'Sword of Kusanagi: Chidori Katana', 'Uchiha Style Shurikenjutsu: \"Lightning\": Triple', 'Water Release: Water Formation Wall (Novel only)']\n",
            "\n",
            "Name: Madara Uchiha\n",
            "jutsu: ['Animal Path', 'Asura Path', 'Black Receiver', 'Blocking Technique Absorption Seal', 'Chibaku Tensei', 'Demonic Statue Chains', 'Deva Path', 'Evil Disturbance Waltz', 'Fire Release: Dragon Flame Release Song Technique', 'Fire Release: Great Fire Annihilation', 'Fire Release: Great Fire Destruction', 'Fire Release: Great Fireball Technique', 'Fire Release: Great Flame Flower (Anime only)', 'Fire Release: Hiding in Ash and Dust Technique', 'Forbidden Individual Curse Tag', 'Genjutsu: Sharingan', 'God: Nativity of a World of Trees', 'Gunbai Fanned Wind (Anime only)', 'Hiding in Surface Technique', 'Human Path', 'Infinite Tsukuyomi', 'Izanagi', 'Kamui', 'Limbo: Border Jail', 'Majestic Attire: Susanoo', 'Multiple Wood Release Clone Technique', 'Naraka Path', 'Outer Path', 'Preta Path', 'Regeneration Ability', 'Sage Art: Storm Release Light Fang', 'Sage Art: Yin Release Lightning Dispatch', 'Sensing Technique', 'Shadow Clone Technique', 'Six Paths Senjutsu', 'Six Paths Technique', 'Six Paths Ten-Tails Coffin Seal', 'Summoning Technique (Demonic Statue of the Outer Path, Kurama)', 'Summoning: Demonic Statue of the Outer Path', 'Susanoo', 'Susanoo: Fist', 'Tengai Shinsei', 'Transcription Seal: Izanagi', 'Truth-Seeking Ball', 'Uchiha Return', 'Will Materialisation', 'Wood Clone Technique', 'Wood Release Secret Technique: Nativity of a World of Trees', 'Wood Release: Advent of a World of Flowering Trees', 'Wood Release: Wood Dragon Technique', 'Yasaka Magatama']\n",
            "\n"
          ]
        }
      ]
    },
    {
      "cell_type": "markdown",
      "source": [
        "# Extract info of Uchiha and Uzumaki clan"
      ],
      "metadata": {
        "id": "jKu-yJs4BlOY"
      }
    },
    {
      "cell_type": "code",
      "source": [
        "uchiha_info = []\n",
        "\n",
        "for uchiha in raw_data:\n",
        "    if 'uchiha' in  uchiha[\"name\"].lower():\n",
        "\n",
        "        uchiha_info.append(uchiha)"
      ],
      "metadata": {
        "id": "vPjwnRKM5ql8"
      },
      "execution_count": null,
      "outputs": []
    },
    {
      "cell_type": "code",
      "source": [
        "uzumaki_info = []\n",
        "\n",
        "for uzumaki in raw_data:\n",
        "    if 'uzumaki' in  uzumaki[\"name\"].lower():\n",
        "\n",
        "        uzumaki_info.append(uzumaki)"
      ],
      "metadata": {
        "id": "TEJjejoF2Izb"
      },
      "execution_count": null,
      "outputs": []
    },
    {
      "cell_type": "code",
      "source": [
        "uchiha_info[0] # show info of the first uchiha member in the list :Sasuke"
      ],
      "metadata": {
        "colab": {
          "base_uri": "https://localhost:8080/"
        },
        "id": "fZYGHPbsCVjP",
        "outputId": "c850666a-5f2b-451e-9f69-e04585337d38"
      },
      "execution_count": null,
      "outputs": [
        {
          "output_type": "execute_result",
          "data": {
            "text/plain": [
              "{'id': 1307,\n",
              " 'name': 'Sasuke Uchiha',\n",
              " 'images': ['https://static.wikia.nocookie.net/naruto/images/2/21/Sasuke_Part_1.png',\n",
              "  'https://static.wikia.nocookie.net/naruto/images/1/13/Sasuke_Part_2.png'],\n",
              " 'debut': {'manga': 'Naruto Chapter #3',\n",
              "  'anime': 'Naruto Episode #1',\n",
              "  'novel': 'Naruto: Innocent Heart, Demonic Blood',\n",
              "  'movie': 'Naruto the Movie: Ninja Clash in the Land of Snow',\n",
              "  'game': 'Naruto: Konoha Ninpōchō',\n",
              "  'ova': 'Find the Four-Leaf Red Clover!',\n",
              "  'appearsIn': 'Anime, Manga, Novel, Game, Movie'},\n",
              " 'family': {'father': 'Fugaku Uchiha',\n",
              "  'mother': 'Mikoto Uchiha',\n",
              "  'brother': 'Itachi Uchiha',\n",
              "  'daughter': 'Sarada Uchiha',\n",
              "  'wife': 'Sakura Uchiha'},\n",
              " 'jutsu': ['Afterglow',\n",
              "  'Amaterasu',\n",
              "  'Amaterasu: Flame Wrapping Fire',\n",
              "  'Amenotejikara',\n",
              "  'Animal Path',\n",
              "  'Area Scanning Technique',\n",
              "  'Asura Path',\n",
              "  \"Banshō Ten'in (Anime only)\",\n",
              "  'Binding Snake Glare Spell',\n",
              "  'Blaze Release: Honoikazuchi (Anime only)',\n",
              "  'Blaze Release: Kagutsuchi',\n",
              "  'Blaze Release: Susanoo Kagutsuchi',\n",
              "  'Blaze Release: Yasaka Magatama',\n",
              "  'Chibaku Tensei',\n",
              "  'Chidori',\n",
              "  'Chidori Current',\n",
              "  'Chidori Light Sword',\n",
              "  'Chidori Senbon',\n",
              "  'Chidori Sharp Spear',\n",
              "  'Coercion Sharingan',\n",
              "  'Combination Transformation (Anime only)',\n",
              "  'Cursed Seal of Heaven',\n",
              "  'Demonic Illusion: Mirage Crow',\n",
              "  'Demonic Illusion: Shackling Stakes Technique',\n",
              "  'Deva Path',\n",
              "  'Earth Release: Stone Luster',\n",
              "  'Evil Releasing Method',\n",
              "  'Fire Release: Dragon Fire Technique',\n",
              "  'Fire Release: Great Dragon Fire Technique',\n",
              "  'Fire Release: Great Fireball Technique',\n",
              "  'Fire Release: Phoenix Sage Fire Technique',\n",
              "  'Genjutsu: Sharingan',\n",
              "  'Hidden Shadow Snake Hands',\n",
              "  'Human Path',\n",
              "  'Hurricane Thunderclap — Majestic Attire Sword Stroke',\n",
              "  \"Indra's Arrow\",\n",
              "  'Kirin',\n",
              "  'Lightning Flash',\n",
              "  'Lion Combo',\n",
              "  'Lorentz Gun (Novel only)',\n",
              "  'Majestic Attire: Susanoo',\n",
              "  'Manipulated Shuriken Technique',\n",
              "  'Manipulating Windmill Triple Blades',\n",
              "  'Moonlight',\n",
              "  'Naka Shrine Pass Technique',\n",
              "  'Naraka Path',\n",
              "  'Orochimaru-Style Body Replacement Technique',\n",
              "  'Outer Path',\n",
              "  'Pachinko Technique (Anime only)',\n",
              "  'Peregrine Falcon Drop',\n",
              "  'Preta Path',\n",
              "  'Reverse Summoning Technique',\n",
              "  \"Sasuke Uchiha's Space–Time Dōjutsu\",\n",
              "  'Scorch Release: Halo Hurricane Jet Black Arrow Style Zero',\n",
              "  'Shadow Clone Technique',\n",
              "  'Shadow Shuriken Technique',\n",
              "  'Shadow of the Dancing Leaf',\n",
              "  'Six Paths Technique',\n",
              "  'Six Paths Yin Power',\n",
              "  'Six Paths — Chibaku Tensei',\n",
              "  'Strong Fist',\n",
              "  'Summoning Technique (Hawk, Snake)',\n",
              "  'Summoning: Lightning Flash Blade Creation',\n",
              "  'Supercooled Water Technique',\n",
              "  'Surging Fire Wild Dance',\n",
              "  'Susanoo',\n",
              "  'Susanoo: Captive Slash',\n",
              "  'Susanoo: Chidori',\n",
              "  'Susanoo: Crush',\n",
              "  'Susanoo: Fist',\n",
              "  'Susanoo: Great Fireball Technique (Anime only)',\n",
              "  'Sword of Kagutsuchi',\n",
              "  'Sword of Kusanagi: Chidori Katana',\n",
              "  'Uchiha Style Shurikenjutsu: \"Lightning\": Triple',\n",
              "  'Water Release: Water Formation Wall (Novel only)'],\n",
              " 'natureType': ['Lightning Release  (Affinity; Anime only)',\n",
              "  'Fire Release',\n",
              "  'Wind Release',\n",
              "  'Earth Release',\n",
              "  'Water Release',\n",
              "  'Yin Release'],\n",
              " 'personal': {'birthdate': 'July 23',\n",
              "  'sex': 'Male',\n",
              "  'age': {'Part I': '12–13', 'Part II': '16–17', 'Academy Graduate': '12'},\n",
              "  'height': {'Part I': '150.8cm - 153.2cm',\n",
              "   'Part II': '168cm',\n",
              "   'Blank Period': '182cm'},\n",
              "  'weight': {'Part I': '42.2kg - 43.5kg', 'Part II': '52.2kg'},\n",
              "  'bloodType': 'AB',\n",
              "  'kekkeiGenkai': ['Sharingan', 'Eternal Mangekyō Sharingan', 'Rinnegan'],\n",
              "  'classification': 'Missing-nin',\n",
              "  'occupation': 'Head of the Uchiha Clan',\n",
              "  'affiliation': ['Konohagakure', 'Otogakure', 'Ryūchi Cave', 'Akatsuki'],\n",
              "  'team': ['Team Kakashi', 'Sound Four', 'Taka'],\n",
              "  'clan': 'Uchiha',\n",
              "  'titles': ['うちはサスケUchihaSasuke',\n",
              "   'childOfTheProphecy(予言の子,YogenNoKo)',\n",
              "   'sasukeOfTheSharingan(写輪眼のサスケ,SharinganNoSasuke)',\n",
              "   'supportingKage(支う影,Sasaukage,LiterallyMeaning:SupportingShadow)']},\n",
              " 'rank': {'ninjaRank': {'Part I': 'Genin'}, 'ninjaRegistration': '012606'},\n",
              " 'tools': ['Bow & Arrow',\n",
              "  'Fūma Shuriken',\n",
              "  'Katar',\n",
              "  'Kusari (Anime only)',\n",
              "  'Mind Awakening Pill',\n",
              "  'Scalpel (Anime only)',\n",
              "  'Sword',\n",
              "  'Sword of Kusanagi',\n",
              "  'Wire Strings'],\n",
              " 'voiceActors': {'japanese': ['Noriaki Sugiyama',\n",
              "   'Nao Tōyama   (Infant and Child)'],\n",
              "  'english': ['Yuri Lowenthal', 'Erica Mendez   (Infant)']}}"
            ]
          },
          "metadata": {},
          "execution_count": 148
        }
      ]
    },
    {
      "cell_type": "code",
      "source": [
        "uzumaki_info[0] # show info of the first uzumaki member in the list: Naruto"
      ],
      "metadata": {
        "colab": {
          "base_uri": "https://localhost:8080/"
        },
        "id": "2JNeI_UZzku7",
        "outputId": "ccad3d6d-333e-4c81-9d0d-2fed85478e6c"
      },
      "execution_count": null,
      "outputs": [
        {
          "output_type": "execute_result",
          "data": {
            "text/plain": [
              "{'id': 1344,\n",
              " 'name': 'Naruto Uzumaki',\n",
              " 'images': ['https://static.wikia.nocookie.net/naruto/images/d/d6/Naruto_Part_I.png',\n",
              "  'https://static.wikia.nocookie.net/naruto/images/7/7d/Naruto_Part_II.png'],\n",
              " 'debut': {'manga': 'Naruto Chapter #1',\n",
              "  'anime': 'Naruto Episode #1',\n",
              "  'novel': 'Naruto: Innocent Heart, Demonic Blood',\n",
              "  'movie': 'Naruto the Movie: Ninja Clash in the Land of Snow',\n",
              "  'game': 'Naruto: Konoha Ninpōchō',\n",
              "  'ova': 'Find the Four-Leaf Red Clover!',\n",
              "  'appearsIn': 'Anime, Manga, Novel, Game, Movie'},\n",
              " 'family': {'father': 'Minato Namikaze',\n",
              "  'mother': 'Kushina Uzumaki',\n",
              "  'son': 'Boruto Uzumaki',\n",
              "  'daughter': 'Himawari Uzumaki',\n",
              "  'wife': 'Hinata Uzumaki',\n",
              "  'adoptive son': 'Kawaki',\n",
              "  'godfather': 'Jiraiya'},\n",
              " 'jutsu': ['All Directions Shuriken',\n",
              "  'Baryon Mode',\n",
              "  'Big Ball Rasengan',\n",
              "  'Big Ball Rasenshuriken',\n",
              "  'Big Ball Spiralling Serial Zone Spheres',\n",
              "  'Boil Release: Unrivalled Strength',\n",
              "  'Chakra Transfer Technique',\n",
              "  'Clone Body Blow',\n",
              "  'Clone Flying Arrow',\n",
              "  'Clone Spinning Heel Drop (Anime only)',\n",
              "  'Combination Transformation',\n",
              "  'Continuous Tailed Beast Balls',\n",
              "  'Crescent Moon Rasengan',\n",
              "  'Earth Release: Earth-Style Wall',\n",
              "  'Erupting Propulsion Fist',\n",
              "  'Fire Release: Toad Oil Flame Bullet (Anime only)',\n",
              "  'Frog Kata',\n",
              "  'Frog Strike',\n",
              "  'Gelel Rasengan',\n",
              "  'Gentle Step Spiralling Twin Lion Fists',\n",
              "  'Guts Rasengan',\n",
              "  'Harem Technique',\n",
              "  'Hurricane Thunderclap — Majestic Attire Sword Stroke',\n",
              "  'Ink Creation',\n",
              "  'Kurama Arm Attack',\n",
              "  'Mini-Rasenshuriken',\n",
              "  'Multiple Shadow Clone Technique',\n",
              "  'Naruto Region Combo',\n",
              "  'Naruto Uzumaki Combo',\n",
              "  'Naruto Uzumaki Two Thousand Combo',\n",
              "  \"Naruto and Shion's Super Chakra Rasengan\",\n",
              "  'Negative Emotions Sensing',\n",
              "  'New Sexy Technique',\n",
              "  'Nine-Tails Chakra Mode',\n",
              "  'Ninja Art: Bare-Handed Blade Block',\n",
              "  'One Thousand Years of Death',\n",
              "  'Pachinko Technique (Anime only)',\n",
              "  'Parachute',\n",
              "  'Parent and Child Rasengan',\n",
              "  'Planetary Rasengan',\n",
              "  'Rasengan',\n",
              "  'Rasengan: Flash',\n",
              "  'Regeneration Ability',\n",
              "  'Runt Ball Rasengan (Anime only)',\n",
              "  'Sage Art: Lava Release Rasenshuriken',\n",
              "  'Sage Art: Magnet Release Rasengan',\n",
              "  'Sage Art: Many Ultra-Big Ball Spiralling Serial Spheres',\n",
              "  'Sage Art: Super Tailed Beast Rasenshuriken',\n",
              "  'Sage Mode',\n",
              "  'Scorch Release: Halo Hurricane Jet Black Arrow Style Zero',\n",
              "  'Seven-Coloured Rasengan',\n",
              "  'Sexy Reverse Harem Technique',\n",
              "  'Sexy Technique',\n",
              "  'Sexy Technique: Pole Dance and Nice Body (Anime only)',\n",
              "  'Shadow Clone Technique',\n",
              "  'Shadow Shuriken Technique',\n",
              "  'Shuriken Shadow Clone Technique (Anime only)',\n",
              "  'Six Paths Sage Mode',\n",
              "  'Six Paths Senjutsu',\n",
              "  'Six Paths Yang Power',\n",
              "  'Six Paths — Chibaku Tensei',\n",
              "  'Six Paths: Ultra-Big Ball Rasenshuriken',\n",
              "  'Soap Bubble Ninjutsu (Anime only)',\n",
              "  'Spiralling Absorption Sphere',\n",
              "  'Spiralling Serial Spheres',\n",
              "  'Spiralling Strife Spheres',\n",
              "  'Strong Fist (Anime only)',\n",
              "  'Summoning Technique (Toad)',\n",
              "  'Summoning: Food Cart Destroyer Technique',\n",
              "  'Super Mini-Tailed Beast Ball',\n",
              "  'Super-Ultra-Big Ball Rasengan',\n",
              "  'Supreme Ultimate Rasengan',\n",
              "  'Tailed Beast Ball',\n",
              "  'Tailed Beast Ball Rasenshuriken',\n",
              "  'Tailed Beast Chakra Arms',\n",
              "  'Tailed Beast Full Charge',\n",
              "  'Tailed Beast Rasengan',\n",
              "  'Tailed Beast Shockwave',\n",
              "  'Torii Seal',\n",
              "  'Tornado Rasengan',\n",
              "  'Truth-Seeking Ball',\n",
              "  'Turning into a Frog Technique (Anime only)',\n",
              "  'Typhoon Water Vortex Technique',\n",
              "  'Ultra-Big Ball Rasengan',\n",
              "  'Ultra-Many Spiralling Serial Spheres',\n",
              "  'Uzumaki Formation (Anime only)',\n",
              "  'Wind Release: Rasengan',\n",
              "  'Wind Release: Rasenshuriken',\n",
              "  'Wind Release: Repeated Rasenshuriken',\n",
              "  'Wind Release: Toad Gun (Anime only)',\n",
              "  'Wind Release: Toad Oil Bullet (Anime only)',\n",
              "  'Wind Release: Toad Oil Flame Bullet (Anime only)',\n",
              "  'Wind Release: Ultra-Big Ball Rasenshuriken',\n",
              "  'Wisdom Wolf Decay'],\n",
              " 'natureType': ['Wind Release  (Affinity)',\n",
              "  'Lightning Release',\n",
              "  'Earth Release',\n",
              "  'Water Release',\n",
              "  'Fire Release',\n",
              "  'Lava Release',\n",
              "  'Magnet Release',\n",
              "  'Boil Release',\n",
              "  'Yin Release',\n",
              "  'Yang Release',\n",
              "  'Yin–Yang Release'],\n",
              " 'personal': {'birthdate': 'October 10',\n",
              "  'sex': 'Male',\n",
              "  'age': {'Part I': '12–13', 'Part II': '15–17', 'Academy Graduate': '12'},\n",
              "  'height': {'Part I': '145.3cm - 147.5cm',\n",
              "   'Part II': '166cm',\n",
              "   'Blank Period': '180cm'},\n",
              "  'weight': {'Part I': '40.1kg - 40.6kg', 'Part II': '50.9kg'},\n",
              "  'bloodType': 'B',\n",
              "  'kekkeiGenkai': ['Lava Release', 'Magnet Release', 'Boil Release'],\n",
              "  'classification': ['Jinchūriki', 'Sage', 'Sensor Type'],\n",
              "  'tailedBeast': 'Shukaku, Matatabi, Isobu, Son Gokū, Kokuō, Saiken, Chōmei, Gyūki, Kurama (Forms)',\n",
              "  'occupation': ['Hokage', 'Chūnin Exams Proctor  (Anime only)'],\n",
              "  'affiliation': ['Konohagakure', 'Mount Myōboku', 'Allied Shinobi Forces'],\n",
              "  'team': ['Team Kakashi',\n",
              "   'Sasuke Recovery Team',\n",
              "   'Konoha 11  (Anime only)',\n",
              "   'Bikōchū Search Team  (Anime only)',\n",
              "   'Kaima Capture Team  (Anime only)',\n",
              "   'Star Guard Team  (Anime only)',\n",
              "   'Peddlers Escort Team  (Anime only)',\n",
              "   'Kazekage Rescue Team',\n",
              "   'Team One  (Anime only)',\n",
              "   'Eight Man Squad',\n",
              "   'Hanabi Rescue Team  (Movie only)'],\n",
              "  'clan': 'Uzumaki',\n",
              "  'titles': ['うずまきナルトUzumakiNaruto',\n",
              "   'the-off,NumberOneUnpredictable,NoisyNinja(目立ちたがり屋で意外性no.1のドタバタ忍者,MedachitagariyaDeIgaiseiNanbāWanNoDotabataNinja,EnglishTv:NumberOneHyperactive,KnuckleheadNinja)',\n",
              "   'childOfTheProphecy(予言の子,YogenNoKo)',\n",
              "   'saviourOfThisWorld(この世の救世主,KonoYoNoKyūseishu)',\n",
              "   'heroOfTheHiddenLeaf(木ノ葉隠れの英雄,KonohagakureNoEiyū,LiterallyMeaning:HeroOfTheHiddenTreeLeaves)',\n",
              "   'boyOfMiracles(奇跡を起こす少年,KisekiOOkosuShōnen)',\n",
              "   \"konoha'sOrangeHokage(木ノ葉のオレンジ火影,KonohaNoOrenjiHokage,LiterallyMeaning:TreeLeaves'OrangeFireShadow)\",\n",
              "   'seventhHokage(七代目火影,NanadaimeHokage,LiterallyMeaning:SeventhFireShadow)',\n",
              "   'fox(狐,Kitsune)']},\n",
              " 'rank': {'ninjaRank': {'Part I': 'Genin', 'Gaiden': 'Kage'},\n",
              "  'ninjaRegistration': '012607'},\n",
              " 'tools': ['Absorbing Hand',\n",
              "  'Bō (Anime only)',\n",
              "  'Chakra Blade (Anime only)',\n",
              "  'Flying Thunder God Kunai',\n",
              "  'Fūma Shuriken',\n",
              "  'Hidden Kunai Mechanism',\n",
              "  'Konoha Chakra Blade',\n",
              "  'Sand',\n",
              "  'Stone of Gelel'],\n",
              " 'voiceActors': {'japanese': ['Junko Takeuchi',\n",
              "   'Ema Kogure   (Sexy Technique)'],\n",
              "  'english': ['Maile Flanagan',\n",
              "   'Stephanie Sheh   (Sexy Technique)',\n",
              "   'Jeannie Elias   (Sexy Technique) (episode 53-55)',\n",
              "   'Mary Elizabeth McGlynn   (Sexy Technique) (episode 177)',\n",
              "   'Kate Higgins   (Sexy Technique) (episode 229)']}}"
            ]
          },
          "metadata": {},
          "execution_count": 149
        }
      ]
    },
    {
      "cell_type": "markdown",
      "source": [
        "## Showing the names of characters in Uchiha and Uzumaki clans"
      ],
      "metadata": {
        "id": "smMQjQKxDMWa"
      }
    },
    {
      "cell_type": "code",
      "source": [
        "print(\"Uzumaki members:\")\n",
        "\n",
        "for i,uzumaki in zip (list(range(len(uzumaki_info))),uzumaki_info):\n",
        "    print(f\"{i+1}.{uzumaki['name']}\")\n",
        "\n",
        "print(\"\\nUchiha members:\")\n",
        "for i,uchiha in zip (list(range(len(uchiha_info))),uchiha_info):\n",
        "    print(f\"{i+1}.{uchiha['name']}\")\n"
      ],
      "metadata": {
        "colab": {
          "base_uri": "https://localhost:8080/"
        },
        "id": "DJ2qJ2cODhGs",
        "outputId": "2fc649b6-9c22-457c-c9aa-803f60b23725"
      },
      "execution_count": null,
      "outputs": [
        {
          "output_type": "stream",
          "name": "stdout",
          "text": [
            "Uzumaki members:\n",
            "1.Naruto Uzumaki\n",
            "2.Boruto Uzumaki\n",
            "3.Menma Uzumaki\n",
            "4.Kushina Uzumaki\n",
            "5.Ashina Uzumaki\n",
            "6.Himawari Uzumaki\n",
            "7.Mito Uzumaki\n",
            "\n",
            "Uchiha members:\n",
            "1.Sasuke Uchiha\n",
            "2.Madara Uchiha\n",
            "3.Obito Uchiha\n",
            "4.Itachi Uchiha\n",
            "5.Sarada Uchiha\n",
            "6.Shisui Uchiha\n",
            "7.Fugaku Uchiha\n",
            "8.Izuna Uchiha\n",
            "9.Shin Uchiha\n",
            "10.Tekka Uchiha\n",
            "11.Baru Uchiha\n",
            "12.Naka Uchiha\n",
            "13.Naori Uchiha\n",
            "14.Rai Uchiha\n",
            "15.Hikaku Uchiha\n",
            "16.Inabi Uchiha\n",
            "17.Izumi Uchiha\n",
            "18.Kagami Uchiha\n",
            "19.Mikoto Uchiha\n",
            "20.Setsuna Uchiha\n",
            "21.Taiko Uchiha\n",
            "22.Tajima Uchiha\n",
            "23.Teyaki Uchiha\n",
            "24.Uruchi Uchiha\n",
            "25.Yakumi Uchiha\n",
            "26.Yashiro Uchiha\n",
            "27.Hazuki Uchiha\n",
            "28.Kagen Uchiha\n"
          ]
        }
      ]
    }
  ]
}