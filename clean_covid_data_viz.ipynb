{
  "nbformat": 4,
  "nbformat_minor": 0,
  "metadata": {
    "colab": {
      "provenance": [],
      "authorship_tag": "ABX9TyMRMlmMKHMxrSQZcGaqX1r4",
      "include_colab_link": true
    },
    "kernelspec": {
      "name": "python3",
      "display_name": "Python 3"
    },
    "language_info": {
      "name": "python"
    }
  },
  "cells": [
    {
      "cell_type": "markdown",
      "metadata": {
        "id": "view-in-github",
        "colab_type": "text"
      },
      "source": [
        "<a href=\"https://colab.research.google.com/github/Massittha/Data-portfolio/blob/main/clean_covid_data_viz.ipynb\" target=\"_parent\"><img src=\"https://colab.research.google.com/assets/colab-badge.svg\" alt=\"Open In Colab\"/></a>"
      ]
    },
    {
      "cell_type": "markdown",
      "source": [
        "## Data cleaning for COVID-19 Report on Looker Studio\n",
        "\n",
        "Data source: https://github.com/owid/covid-19-data/tree/master/public/data"
      ],
      "metadata": {
        "id": "usSEQ749-sFv"
      }
    },
    {
      "cell_type": "markdown",
      "source": [
        "Import pandas and read the csv file"
      ],
      "metadata": {
        "id": "Qmy4cH4J_Qkt"
      }
    },
    {
      "cell_type": "code",
      "execution_count": 26,
      "metadata": {
        "id": "4O7PLYxeoG9a"
      },
      "outputs": [],
      "source": [
        "import pandas as pd\n",
        "df = pd.read_csv('owid-covid-data.csv')\n"
      ]
    },
    {
      "cell_type": "code",
      "source": [
        "# check no. of rows and columns\n",
        "df.shape"
      ],
      "metadata": {
        "id": "WRDChUARHMWd",
        "colab": {
          "base_uri": "https://localhost:8080/"
        },
        "outputId": "d18bc099-0ea3-495b-bd2f-8149aa63d2e2"
      },
      "execution_count": 27,
      "outputs": [
        {
          "output_type": "execute_result",
          "data": {
            "text/plain": [
              "(350049, 67)"
            ]
          },
          "metadata": {},
          "execution_count": 27
        }
      ]
    },
    {
      "cell_type": "markdown",
      "source": [
        "See the information of the dataset"
      ],
      "metadata": {
        "id": "HcGFplGH_tga"
      }
    },
    {
      "cell_type": "code",
      "source": [
        "# see dataset info\n",
        "df.info()"
      ],
      "metadata": {
        "colab": {
          "base_uri": "https://localhost:8080/"
        },
        "id": "0-QS6UgWlSFA",
        "outputId": "17e3786b-1b9a-487d-d5a9-34279589cc76"
      },
      "execution_count": 28,
      "outputs": [
        {
          "output_type": "stream",
          "name": "stdout",
          "text": [
            "<class 'pandas.core.frame.DataFrame'>\n",
            "RangeIndex: 350049 entries, 0 to 350048\n",
            "Data columns (total 67 columns):\n",
            " #   Column                                      Non-Null Count   Dtype  \n",
            "---  ------                                      --------------   -----  \n",
            " 0   iso_code                                    350049 non-null  object \n",
            " 1   continent                                   333398 non-null  object \n",
            " 2   location                                    350049 non-null  object \n",
            " 3   date                                        350049 non-null  object \n",
            " 4   total_cases                                 312088 non-null  float64\n",
            " 5   new_cases                                   340457 non-null  float64\n",
            " 6   new_cases_smoothed                          339198 non-null  float64\n",
            " 7   total_deaths                                290501 non-null  float64\n",
            " 8   new_deaths                                  340511 non-null  float64\n",
            " 9   new_deaths_smoothed                         339281 non-null  float64\n",
            " 10  total_cases_per_million                     312088 non-null  float64\n",
            " 11  new_cases_per_million                       340457 non-null  float64\n",
            " 12  new_cases_smoothed_per_million              339198 non-null  float64\n",
            " 13  total_deaths_per_million                    290501 non-null  float64\n",
            " 14  new_deaths_per_million                      340511 non-null  float64\n",
            " 15  new_deaths_smoothed_per_million             339281 non-null  float64\n",
            " 16  reproduction_rate                           184817 non-null  float64\n",
            " 17  icu_patients                                37612 non-null   float64\n",
            " 18  icu_patients_per_million                    37612 non-null   float64\n",
            " 19  hosp_patients                               38895 non-null   float64\n",
            " 20  hosp_patients_per_million                   38895 non-null   float64\n",
            " 21  weekly_icu_admissions                       10203 non-null   float64\n",
            " 22  weekly_icu_admissions_per_million           10203 non-null   float64\n",
            " 23  weekly_hosp_admissions                      23244 non-null   float64\n",
            " 24  weekly_hosp_admissions_per_million          23244 non-null   float64\n",
            " 25  total_tests                                 79387 non-null   float64\n",
            " 26  new_tests                                   75403 non-null   float64\n",
            " 27  total_tests_per_thousand                    79387 non-null   float64\n",
            " 28  new_tests_per_thousand                      75403 non-null   float64\n",
            " 29  new_tests_smoothed                          103965 non-null  float64\n",
            " 30  new_tests_smoothed_per_thousand             103965 non-null  float64\n",
            " 31  positive_rate                               95927 non-null   float64\n",
            " 32  tests_per_case                              94348 non-null   float64\n",
            " 33  tests_units                                 106788 non-null  object \n",
            " 34  total_vaccinations                          79284 non-null   float64\n",
            " 35  people_vaccinated                           75888 non-null   float64\n",
            " 36  people_fully_vaccinated                     72551 non-null   float64\n",
            " 37  total_boosters                              47540 non-null   float64\n",
            " 38  new_vaccinations                            65330 non-null   float64\n",
            " 39  new_vaccinations_smoothed                   180694 non-null  float64\n",
            " 40  total_vaccinations_per_hundred              79284 non-null   float64\n",
            " 41  people_vaccinated_per_hundred               75888 non-null   float64\n",
            " 42  people_fully_vaccinated_per_hundred         72551 non-null   float64\n",
            " 43  total_boosters_per_hundred                  47540 non-null   float64\n",
            " 44  new_vaccinations_smoothed_per_million       180694 non-null  float64\n",
            " 45  new_people_vaccinated_smoothed              180466 non-null  float64\n",
            " 46  new_people_vaccinated_smoothed_per_hundred  180466 non-null  float64\n",
            " 47  stringency_index                            197651 non-null  float64\n",
            " 48  population_density                          297155 non-null  float64\n",
            " 49  median_age                                  276344 non-null  float64\n",
            " 50  aged_65_older                               266685 non-null  float64\n",
            " 51  aged_70_older                               273574 non-null  float64\n",
            " 52  gdp_per_capita                              270840 non-null  float64\n",
            " 53  extreme_poverty                             174546 non-null  float64\n",
            " 54  cardiovasc_death_rate                       271468 non-null  float64\n",
            " 55  diabetes_prevalence                         285280 non-null  float64\n",
            " 56  female_smokers                              203640 non-null  float64\n",
            " 57  male_smokers                                200870 non-null  float64\n",
            " 58  handwashing_facilities                      132971 non-null  float64\n",
            " 59  hospital_beds_per_thousand                  239650 non-null  float64\n",
            " 60  life_expectancy                             322049 non-null  float64\n",
            " 61  human_development_index                     263119 non-null  float64\n",
            " 62  population                                  350049 non-null  float64\n",
            " 63  excess_mortality_cumulative_absolute        12184 non-null   float64\n",
            " 64  excess_mortality_cumulative                 12184 non-null   float64\n",
            " 65  excess_mortality                            12184 non-null   float64\n",
            " 66  excess_mortality_cumulative_per_million     12184 non-null   float64\n",
            "dtypes: float64(62), object(5)\n",
            "memory usage: 178.9+ MB\n"
          ]
        }
      ]
    },
    {
      "cell_type": "markdown",
      "source": [
        "## Data preparation"
      ],
      "metadata": {
        "id": "_lznP_Pb_4e-"
      }
    },
    {
      "cell_type": "code",
      "source": [
        "# select only interested columns\n",
        "columns = ['date','iso_code','continent','location','new_cases','new_deaths','icu_patients','hosp_patients',\\\n",
        "            'new_tests','people_vaccinated','people_fully_vaccinated','population']\n",
        "covid_viz = df[columns]\n",
        "\n",
        "covid_viz.shape"
      ],
      "metadata": {
        "colab": {
          "base_uri": "https://localhost:8080/"
        },
        "id": "N4zzEez_lnJz",
        "outputId": "deaa9193-3dc6-49b4-8e6f-b1f305655847"
      },
      "execution_count": 29,
      "outputs": [
        {
          "output_type": "execute_result",
          "data": {
            "text/plain": [
              "(350049, 12)"
            ]
          },
          "metadata": {},
          "execution_count": 29
        }
      ]
    },
    {
      "cell_type": "code",
      "source": [
        "# some data cleaning\n",
        "\n",
        "# because rows with \"OWID\" as the 'iso_code' contain continent wise records\n",
        "# which overlap or duplicate country wise records.\n",
        "\n",
        "# As I would like the report in Looker studio to aggregate country wise records,\n",
        "# I removed rows containing \"OWID\"\n",
        "\n",
        "remove = covid_viz[covid_viz['iso_code'].str.contains(\"OWID\")].index\n",
        "covid_viz = covid_viz.drop(remove)\n",
        "\n",
        "# check number of rows left\n",
        "covid_viz.shape\n"
      ],
      "metadata": {
        "colab": {
          "base_uri": "https://localhost:8080/"
        },
        "id": "it4xyYmWo9XK",
        "outputId": "121af4c8-9f30-4595-b723-6df51cb919e3"
      },
      "execution_count": 30,
      "outputs": [
        {
          "output_type": "execute_result",
          "data": {
            "text/plain": [
              "(326200, 12)"
            ]
          },
          "metadata": {},
          "execution_count": 30
        }
      ]
    },
    {
      "cell_type": "code",
      "source": [
        "# check null values\n",
        "covid_viz.isna().sum()"
      ],
      "metadata": {
        "colab": {
          "base_uri": "https://localhost:8080/"
        },
        "id": "P7kW3oyZr5VB",
        "outputId": "8996fba2-1824-4224-de90-87985726267a"
      },
      "execution_count": 31,
      "outputs": [
        {
          "output_type": "execute_result",
          "data": {
            "text/plain": [
              "date                            0\n",
              "iso_code                        0\n",
              "continent                       0\n",
              "location                        0\n",
              "new_cases                    3748\n",
              "new_deaths                   3694\n",
              "icu_patients               292879\n",
              "hosp_patients              292400\n",
              "new_tests                  250900\n",
              "people_vaccinated          265818\n",
              "people_fully_vaccinated    269174\n",
              "population                      0\n",
              "dtype: int64"
            ]
          },
          "metadata": {},
          "execution_count": 31
        }
      ]
    },
    {
      "cell_type": "code",
      "source": [
        "# fill na with 0\n",
        "#'hosp_patients','icu_patients'\n",
        "\n",
        "covid_viz[['new_cases','new_deaths','new_tests']] = \\\n",
        "covid_viz[['new_cases','new_deaths','new_tests']].fillna(value = 0)"
      ],
      "metadata": {
        "id": "dSBcOkJzquZd"
      },
      "execution_count": 35,
      "outputs": []
    },
    {
      "cell_type": "code",
      "source": [
        "# create a list of all countries in the dataset\n",
        "countries = list(covid_viz.location.unique())"
      ],
      "metadata": {
        "id": "dEl_pNXOSZPt"
      },
      "execution_count": 21,
      "outputs": []
    },
    {
      "cell_type": "code",
      "source": [
        "# fill forward 'people_vaccinated' and 'people_fully_vaccinated' in each country\n",
        "for country in countries:\n",
        "    covid_viz.loc[covid_viz['location'] == country,['people_vaccinated','people_fully_vaccinated']] = covid_viz[['people_vaccinated','people_fully_vaccinated']][covid_viz['location'] == country].fillna(method='ffill')\n",
        "\n"
      ],
      "metadata": {
        "id": "t9E_r4qbsuB6"
      },
      "execution_count": 36,
      "outputs": []
    },
    {
      "cell_type": "code",
      "source": [
        "# fill the rest with 0\n",
        "covid_viz[['people_vaccinated','people_fully_vaccinated']] = \\\n",
        "covid_viz[['people_vaccinated','people_fully_vaccinated']].fillna(value = 0)"
      ],
      "metadata": {
        "id": "egTRoSkLyAeO"
      },
      "execution_count": 37,
      "outputs": []
    },
    {
      "cell_type": "code",
      "source": [
        "# check null values again\n",
        "# the null values remained at this point are intended\n",
        "# to be shown as 'no data' in the report/dashboard\n",
        "\n",
        "covid_viz.isna().sum()"
      ],
      "metadata": {
        "colab": {
          "base_uri": "https://localhost:8080/"
        },
        "id": "G1tJd5hxpvxY",
        "outputId": "6bb98f8d-5918-455f-a1be-45e78026655a"
      },
      "execution_count": 38,
      "outputs": [
        {
          "output_type": "execute_result",
          "data": {
            "text/plain": [
              "date                            0\n",
              "iso_code                        0\n",
              "continent                       0\n",
              "location                        0\n",
              "new_cases                       0\n",
              "new_deaths                      0\n",
              "icu_patients               292879\n",
              "hosp_patients              292400\n",
              "new_tests                       0\n",
              "people_vaccinated               0\n",
              "people_fully_vaccinated         0\n",
              "population                      0\n",
              "dtype: int64"
            ]
          },
          "metadata": {},
          "execution_count": 38
        }
      ]
    },
    {
      "cell_type": "markdown",
      "source": [
        "## Export data as a csv file"
      ],
      "metadata": {
        "id": "Dy1yRi8EAGO2"
      }
    },
    {
      "cell_type": "code",
      "source": [
        "# create a csv file for Looker Studio\n",
        "covid_viz.to_csv('covid_data_viz.csv',index = False)"
      ],
      "metadata": {
        "id": "1VJo2hrMTJ2q"
      },
      "execution_count": 39,
      "outputs": []
    }
  ]
}